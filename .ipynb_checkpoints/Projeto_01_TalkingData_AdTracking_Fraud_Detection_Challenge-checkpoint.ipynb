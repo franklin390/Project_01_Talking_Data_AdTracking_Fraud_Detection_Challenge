{
 "cells": [
  {
   "cell_type": "markdown",
   "metadata": {
    "colab_type": "text",
    "id": "3Y2fczd-q67F"
   },
   "source": [
    "# **TalkingData AdTracking Fraud Detection Challenge**\n",
    "\n",
    "*06 de março, 2020*"
   ]
  },
  {
   "cell_type": "markdown",
   "metadata": {
    "colab_type": "text",
    "id": "pEWLHqoL9G2u"
   },
   "source": [
    "## **1.   Descrição geral do problema**"
   ]
  },
  {
   "cell_type": "markdown",
   "metadata": {
    "colab_type": "text",
    "id": "mJh9xZiHsTPI"
   },
   "source": [
    "---\n",
    "\n",
    "![TalkingData AdTracking Fraud Detection](https://www.thebeijinger.com/sites/default/files/thebeijinger/event-images/376094/screen_shot_2018-05-29_at_10.08.48_am.png)\n",
    "\n",
    "O risco de fraude está em toda parte, mas para as empresas que anunciam online, a fraude de cliques pode acontecer em um volume avassalador, resultando em dados de cliques enganosos e dinheiro desperdiçado. Os canais de anúncios podem aumentar os custos simplesmente quando pessoas ou bots clicam nos anúncios em grande escala, o que na prática não gera o resultado esperado. Com mais de 1 bilhão de dispositivos móveis em uso todos os meses, a China é o maior mercado móvel do mundo e, portanto, sofre com grandes volumes de tráfego fraudulento.\n",
    "\n",
    "A <a href = 'https://www.talkingdata.com'>TalkingData</a>, a maior plataforma de Big Data independente da China, cobre mais de 70% dos dispositivos móveis ativos em todo o país. Eles lidam com 3 bilhões de cliques por dia, dos quais 90% são potencialmente fraudulentos. Sua abordagem atual para impedir fraudes de cliques para desenvolvedores de aplicativos é medir a jornada do clique de um usuário em todo o portfólio e sinalizar endereços IP que produzem muitos cliques, mas nunca acabam instalando aplicativos. Com essas informações, eles criaram uma lista negra de IPs e uma lista negra de dispositivos.\n",
    "\n",
    "Embora bem-sucedidos, eles querem estar sempre um passo à frente dos fraudadores e desejam desenvolver ainda mais a solução a partir da criação de um algoritmo que possa prever se um usuário fará o download de um aplicativo depois de clicar em um anúncio de aplicativo para dispositivos móveis.\n",
    "\n",
    "**Objetivo:** Em resumo, neste projeto, iremos construir um modelo de aprendizado de máquina para determinar se um clique é fraudulento ou não. Para a construção desse projeto, utilizaremos a linguagem R e o dataset disponível no Kaggle em: \n",
    "\n",
    "* https://www.kaggle.com/c/talkingdata-adtracking-fraud-detection/data\n",
    "\n",
    "---\n",
    "\n"
   ]
  },
  {
   "cell_type": "markdown",
   "metadata": {
    "colab_type": "text",
    "id": "uOBH3T-OtwRm"
   },
   "source": [
    "## **2. Carregando dados**"
   ]
  },
  {
   "cell_type": "markdown",
   "metadata": {
    "colab_type": "text",
    "id": "S8je2U4gsbJ8"
   },
   "source": [
    "### **2.1 Importando bibliotecas necessárias**\n",
    "\n",
    "\n"
   ]
  },
  {
   "cell_type": "markdown",
   "metadata": {
    "colab_type": "text",
    "id": "pNcag3h5qm4U"
   },
   "source": [
    "Vamos começar nosso projeto importanto todas as bilbiotecas necessárias para a realização das fases iniciais de exploração e transformação dos dados (data Munging)."
   ]
  },
  {
   "cell_type": "code",
   "execution_count": null,
   "metadata": {
    "colab": {
     "base_uri": "https://localhost:8080/",
     "height": 323
    },
    "colab_type": "code",
    "id": "yplKTiuk_Lu_",
    "outputId": "f6556f34-84d0-4792-8b26-473c729299f2"
   },
   "outputs": [],
   "source": [
    "# Definindo a oculatação de warnings.\n",
    "\n",
    "options(warn = -1)\n",
    "\n",
    "# Caso não possua uma das bibliotecas importadas abaixo, a instale com um dos comandos a seguir:\n",
    "\n",
    "install.packages('data.table', repos='http://cran.rstudio.com/')\n",
    "install.packages('bigreadr',   repos='http://cran.rstudio.com/')\n",
    "install.packages('dplyr',      repos='http://cran.rstudio.com/')\n",
    "install.packages('ggplot2',    repos='http://cran.rstudio.com/')\n",
    "install.packages('fasttime',   repos='http://cran.rstudio.com/')\n",
    "install.packages('lubridate',  repos='http://cran.rstudio.com/')"
   ]
  },
  {
   "cell_type": "code",
   "execution_count": null,
   "metadata": {
    "colab": {},
    "colab_type": "code",
    "id": "5LP-lo6WsRSM"
   },
   "outputs": [],
   "source": [
    "# Importando bibliotecas.\n",
    "\n",
    "library(data.table)\n",
    "library(bigreadr)\n",
    "library(dplyr)\n",
    "library(ggplot2)\n",
    "library(fasttime)\n",
    "library(lubridate)"
   ]
  },
  {
   "cell_type": "markdown",
   "metadata": {
    "colab_type": "text",
    "id": "xsvkkK_1_qHk"
   },
   "source": [
    "Vamos iniciar nosso projeto carregando os dados de teste e treino. Por serem muito grandes e impedirem seu manuseio em computadores com pouca memória RAM, adotamos a estratégia de dividir os conjuntos de dados originais  em 5 partes. Para este processo de fragmentação, utilizamos a ferramenta <a href = 'https://https://gitforwindows.org'>Git</a> a partir de uma emulação BASH usada para executá-lo a partir da linha de comando."
   ]
  },
  {
   "cell_type": "markdown",
   "metadata": {
    "colab_type": "text",
    "id": "zK0s4loaADe-"
   },
   "source": [
    "### **2.2 Carregando dados de treino**"
   ]
  },
  {
   "cell_type": "markdown",
   "metadata": {
    "colab_type": "text",
    "id": "Im2nYl5fE4W6"
   },
   "source": [
    "Para este dataset, contabilizamos seu número total de linhas com o auxílo da função *nlines()* do pacote **bigreadr** sem ter a necessidade de carregar os dados na memória RAM. Em seguida, dividimos o número de linhas por 5.\n",
    "\n",
    "```\n",
    "## Determina o número de linhas do dataset.\n",
    "#\n",
    "# Decrementamos o valor retornado em 1 unidade para desconsiderar a linha de cabeçalho (header). \n",
    "\n",
    "numDeChunks   <- 5\n",
    "totalDeLinhas <- nlines('train.csv') - 1 \n",
    "\n",
    "numMaxLinhasPorChunks <- round(totalDeLinhas / numDeChunks)\n",
    "```\n",
    "\n",
    "Como resultado, obtivemos que o número total de cada fragmento do dataset original deve conter 36.980.778 linhas.\n",
    "\n",
    "Utilizando o comando descrito abaixo no Git bash, realizamos efetivamente a divisão dos dados:\n",
    "\n",
    "* **split train.csv -l 36980778**\n",
    "\n"
   ]
  },
  {
   "cell_type": "markdown",
   "metadata": {
    "colab_type": "text",
    "id": "mylVwqYeUsAO"
   },
   "source": [
    "Vamos visualizar as primeiras linhas de um dos chunks (fragmentos) criados."
   ]
  },
  {
   "cell_type": "code",
   "execution_count": 5,
   "metadata": {
    "colab": {
     "base_uri": "https://localhost:8080/",
     "height": 204
    },
    "colab_type": "code",
    "id": "8GyrvQd6kYCn",
    "outputId": "af8eba3b-f42a-4710-f03a-a81ccb9a8935"
   },
   "outputs": [
    {
     "data": {
      "text/html": [
       "<table>\n",
       "<thead><tr><th scope=col>ip</th><th scope=col>app</th><th scope=col>device</th><th scope=col>os</th><th scope=col>channel</th><th scope=col>click_time</th><th scope=col>attributed_time</th><th scope=col>is_attributed</th></tr></thead>\n",
       "<tbody>\n",
       "\t<tr><td> 83230             </td><td> 3                 </td><td>1                  </td><td>13                 </td><td>379                </td><td>2017-11-06 14:32:21</td><td>                   </td><td>0                  </td></tr>\n",
       "\t<tr><td> 17357             </td><td> 3                 </td><td>1                  </td><td>19                 </td><td>379                </td><td>2017-11-06 14:33:34</td><td>                   </td><td>0                  </td></tr>\n",
       "\t<tr><td> 35810             </td><td> 3                 </td><td>1                  </td><td>13                 </td><td>379                </td><td>2017-11-06 14:34:12</td><td>                   </td><td>0                  </td></tr>\n",
       "\t<tr><td> 45745             </td><td>14                 </td><td>1                  </td><td>13                 </td><td>478                </td><td>2017-11-06 14:34:52</td><td>                   </td><td>0                  </td></tr>\n",
       "\t<tr><td>161007             </td><td> 3                 </td><td>1                  </td><td>13                 </td><td>379                </td><td>2017-11-06 14:35:08</td><td>                   </td><td>0                  </td></tr>\n",
       "\t<tr><td> 18787             </td><td> 3                 </td><td>1                  </td><td>16                 </td><td>379                </td><td>2017-11-06 14:36:26</td><td>                   </td><td>0                  </td></tr>\n",
       "</tbody>\n",
       "</table>\n"
      ],
      "text/latex": [
       "\\begin{tabular}{r|llllllll}\n",
       " ip & app & device & os & channel & click\\_time & attributed\\_time & is\\_attributed\\\\\n",
       "\\hline\n",
       "\t  83230              &  3                  & 1                   & 13                  & 379                 & 2017-11-06 14:32:21 &                     & 0                  \\\\\n",
       "\t  17357              &  3                  & 1                   & 19                  & 379                 & 2017-11-06 14:33:34 &                     & 0                  \\\\\n",
       "\t  35810              &  3                  & 1                   & 13                  & 379                 & 2017-11-06 14:34:12 &                     & 0                  \\\\\n",
       "\t  45745              & 14                  & 1                   & 13                  & 478                 & 2017-11-06 14:34:52 &                     & 0                  \\\\\n",
       "\t 161007              &  3                  & 1                   & 13                  & 379                 & 2017-11-06 14:35:08 &                     & 0                  \\\\\n",
       "\t  18787              &  3                  & 1                   & 16                  & 379                 & 2017-11-06 14:36:26 &                     & 0                  \\\\\n",
       "\\end{tabular}\n"
      ],
      "text/markdown": [
       "\n",
       "| ip | app | device | os | channel | click_time | attributed_time | is_attributed |\n",
       "|---|---|---|---|---|---|---|---|\n",
       "|  83230              |  3                  | 1                   | 13                  | 379                 | 2017-11-06 14:32:21 |                     | 0                   |\n",
       "|  17357              |  3                  | 1                   | 19                  | 379                 | 2017-11-06 14:33:34 |                     | 0                   |\n",
       "|  35810              |  3                  | 1                   | 13                  | 379                 | 2017-11-06 14:34:12 |                     | 0                   |\n",
       "|  45745              | 14                  | 1                   | 13                  | 478                 | 2017-11-06 14:34:52 |                     | 0                   |\n",
       "| 161007              |  3                  | 1                   | 13                  | 379                 | 2017-11-06 14:35:08 |                     | 0                   |\n",
       "|  18787              |  3                  | 1                   | 16                  | 379                 | 2017-11-06 14:36:26 |                     | 0                   |\n",
       "\n"
      ],
      "text/plain": [
       "  ip     app device os channel click_time          attributed_time\n",
       "1  83230  3  1      13 379     2017-11-06 14:32:21                \n",
       "2  17357  3  1      19 379     2017-11-06 14:33:34                \n",
       "3  35810  3  1      13 379     2017-11-06 14:34:12                \n",
       "4  45745 14  1      13 478     2017-11-06 14:34:52                \n",
       "5 161007  3  1      13 379     2017-11-06 14:35:08                \n",
       "6  18787  3  1      16 379     2017-11-06 14:36:26                \n",
       "  is_attributed\n",
       "1 0            \n",
       "2 0            \n",
       "3 0            \n",
       "4 0            \n",
       "5 0            \n",
       "6 0            "
      ]
     },
     "metadata": {},
     "output_type": "display_data"
    }
   ],
   "source": [
    "# Determinando o nome de cada um dos fragmentos do dataset original.\n",
    "\n",
    "chunks <- c(\"train_p1.csv\", \"train_p2.csv\", \"train_p3.csv\", \"train_p4.csv\", \"train_p5.csv\")\n",
    "\n",
    "# Carregando o primeiro fragmento do conjunto de dados.\n",
    "\n",
    "chunk <- fread(chunks[1])\n",
    "\n",
    "# Capturando o nome das colunas do dataset.\n",
    "\n",
    "cNames <- colnames(chunk)\n",
    "\n",
    "# Imprimindo as primeiras linhas do dataset.\n",
    "\n",
    "head(chunk)\n",
    "\n",
    "# Removendo o dataset da memória.\n",
    "\n",
    "rm(chunk)"
   ]
  },
  {
   "cell_type": "markdown",
   "metadata": {
    "colab_type": "text",
    "id": "KCrwbxOgYQg_"
   },
   "source": [
    "Segundo a [documentação](https://www.kaggle.com/c/talkingdata-adtracking-fraud-detection/data) referente ao projeto, cada linha dos dados de treinamento contém um registro de clique, com os seguintes recursos:\n",
    "\n",
    "* **ip**: define o endereço IP do clique;\n",
    "* **app**: é o ID do aplicativo ao qual o anúncio se refere;\n",
    "* **device**: é o ID do tipo de dispositivo do celular do usuário (por exemplo, iphone 6 plus, iphone 7, huawei mate 7 etc.); \n",
    "* **os**: é o ID da versão do sistema operacional do telefone móvel do usuário;\n",
    "* **channel**: é ID do canal do editor de anúncios para celular;\n",
    "* **click_time**: é o registro de data e hora do clique (UTC);\n",
    "* **attributed_time**: se o usuário baixar o aplicativo após clicar em um anúncio, registra o instante de tempo em que o download do aplicativo foi realizado e;\n",
    "* **is_attributed (*Target*)**: *é a variável alvo a ser prevista*, e indica se o aplicativo foi ou não baixado.\n",
    "\n",
    "**Observação:** as variáveis **ip**, **app**, **device**, **os**, e **channel** estão codificadas."
   ]
  },
  {
   "cell_type": "markdown",
   "metadata": {
    "colab_type": "text",
    "id": "etnMakmkc5Vc"
   },
   "source": [
    "#### **2.2.1 Realizando uma análise exploratória nos dados de treino**"
   ]
  },
  {
   "cell_type": "markdown",
   "metadata": {
    "colab_type": "text",
    "id": "_RrwInG6dcON"
   },
   "source": [
    "Agora vamos verificar o balanceamento dos dados de treino segundo as classes que devem ser previstas. Ou seja, queremos saber as proporções de registros em que houve ou não um download. "
   ]
  },
  {
   "cell_type": "code",
   "execution_count": 6,
   "metadata": {
    "colab": {
     "base_uri": "https://localhost:8080/",
     "height": 162
    },
    "colab_type": "code",
    "id": "mOjKKDe_6etZ",
    "outputId": "c80d3438-4b45-4ff0-e889-9dda45820850"
   },
   "outputs": [
    {
     "data": {
      "text/html": [
       "<table>\n",
       "<thead><tr><th></th><th scope=col>No</th><th scope=col>Yes</th></tr></thead>\n",
       "<tbody>\n",
       "\t<tr><th scope=row>train_p1.csv</th><td>0.1995894   </td><td>0.0005177438</td></tr>\n",
       "\t<tr><th scope=row>train_p2.csv</th><td>0.1996269   </td><td>0.0004779610</td></tr>\n",
       "\t<tr><th scope=row>train_p3.csv</th><td>0.1991522   </td><td>0.0005639860</td></tr>\n",
       "\t<tr><th scope=row>train_p4.csv</th><td>0.1995156   </td><td>0.0004459230</td></tr>\n",
       "\t<tr><th scope=row>train_p5.csv</th><td>0.1995958   </td><td>0.0005144285</td></tr>\n",
       "</tbody>\n",
       "</table>\n"
      ],
      "text/latex": [
       "\\begin{tabular}{r|ll}\n",
       "  & No & Yes\\\\\n",
       "\\hline\n",
       "\ttrain\\_p1.csv & 0.1995894    & 0.0005177438\\\\\n",
       "\ttrain\\_p2.csv & 0.1996269    & 0.0004779610\\\\\n",
       "\ttrain\\_p3.csv & 0.1991522    & 0.0005639860\\\\\n",
       "\ttrain\\_p4.csv & 0.1995156    & 0.0004459230\\\\\n",
       "\ttrain\\_p5.csv & 0.1995958    & 0.0005144285\\\\\n",
       "\\end{tabular}\n"
      ],
      "text/markdown": [
       "\n",
       "| <!--/--> | No | Yes |\n",
       "|---|---|---|\n",
       "| train_p1.csv | 0.1995894    | 0.0005177438 |\n",
       "| train_p2.csv | 0.1996269    | 0.0004779610 |\n",
       "| train_p3.csv | 0.1991522    | 0.0005639860 |\n",
       "| train_p4.csv | 0.1995156    | 0.0004459230 |\n",
       "| train_p5.csv | 0.1995958    | 0.0005144285 |\n",
       "\n"
      ],
      "text/plain": [
       "             No        Yes         \n",
       "train_p1.csv 0.1995894 0.0005177438\n",
       "train_p2.csv 0.1996269 0.0004779610\n",
       "train_p3.csv 0.1991522 0.0005639860\n",
       "train_p4.csv 0.1995156 0.0004459230\n",
       "train_p5.csv 0.1995958 0.0005144285"
      ]
     },
     "metadata": {},
     "output_type": "display_data"
    }
   ],
   "source": [
    "# Contabilizando o número de linhas de cada fragmento segundo a variável target.\n",
    "\n",
    "countTargetClass <- sapply(chunks, function(c) {\n",
    "\n",
    "    # Carrega o chunk.\n",
    "\n",
    "    chunk <- fread(c, col.names = cNames)\n",
    "\n",
    "    # Elimina linhas duplicadas dentro do conjunto de dados.\n",
    "\n",
    "    chunk <- chunk[!duplicated(chunk), ]\n",
    "\n",
    "    # Retorna a quantidade de linhas que cada classe da variável target contém dentro do chunk.\n",
    "\n",
    "    table(chunk$is_attributed)\n",
    "})\n",
    "\n",
    "# Transpondo os resultados obtidos.\n",
    "\n",
    "chunksSummary <- t(countTargetClass)\n",
    "\n",
    "# Alterando o nome das colunas.\n",
    "\n",
    "colnames(chunksSummary) <- c('No', 'Yes')\n",
    "\n",
    "# Verificando as proporções de registros segundo cada uma das classes da variável target em cada chunk.\n",
    "\n",
    "prop.table(chunksSummary)"
   ]
  },
  {
   "cell_type": "markdown",
   "metadata": {
    "colab_type": "text",
    "id": "TzqBq-vfhx2D"
   },
   "source": [
    "Os resultados obtidos mostram que temos aproximadamente as mesmas proporções de dados para cada classe da variável target em cada um dos chunks. Mas, para facilitar nossa compreensão vamos agrupar estes valores e avaliar as proporções de todo o dataset de treino."
   ]
  },
  {
   "cell_type": "code",
   "execution_count": 7,
   "metadata": {
    "colab": {
     "base_uri": "https://localhost:8080/",
     "height": 51
    },
    "colab_type": "code",
    "id": "X7KUkR4iBPWs",
    "outputId": "bafb20a1-0783-477f-df87-1e3ddf527ea4"
   },
   "outputs": [
    {
     "name": "stdout",
     "output_type": "stream",
     "text": [
      "         No         Yes \n",
      "0.997479958 0.002520042 \n"
     ]
    }
   ],
   "source": [
    "# Somando os resultados de cada coluna da tabela.\n",
    "\n",
    "totalTargetClass <- sapply(as.data.frame(chunksSummary), sum)\n",
    "\n",
    "# Exbindo as proporções de cada uma das classes da variável target dentro do dataset de treino.\n",
    "\n",
    "print(prop.table(totalTargetClass))"
   ]
  },
  {
   "cell_type": "markdown",
   "metadata": {
    "colab_type": "text",
    "id": "hDHTQOlbv895"
   },
   "source": [
    "Vamos plotar estes resultados em um gráfico."
   ]
  },
  {
   "cell_type": "code",
   "execution_count": 8,
   "metadata": {
    "colab": {
     "base_uri": "https://localhost:8080/",
     "height": 437
    },
    "colab_type": "code",
    "id": "jkN6o7-YsrUs",
    "outputId": "0d7ccb70-0161-432f-d9d2-7443b5c1e8d5"
   },
   "outputs": [
    {
     "data": {
      "image/png": "[encoded data removed]",
      "text/plain": [
       "plot without title"
      ]
     },
     "metadata": {},
     "output_type": "display_data"
    }
   ],
   "source": [
    "# Plotando um gráfico de barras para representar as proporções de cada classe da variável is_attributed.\n",
    "\n",
    "data.frame(Downloaded = c('No', 'Yes'), rows = totalTargetClass) %>%\n",
    "    ggplot(aes(x = Downloaded, y = rows, fill = Downloaded)) + \n",
    "    geom_bar(stat = 'identity') + \n",
    "    labs(title = 'Data distribution for variable is_attributed by yours levels') + \n",
    "    theme_bw()"
   ]
  },
  {
   "cell_type": "markdown",
   "metadata": {
    "colab_type": "text",
    "id": "EDPOC-Qrkto5"
   },
   "source": [
    "Há um alto desbalanceamento entre as classes que devemos prever. Cerca de **99,75%** dos dados classifica casos em que um indivíduo não realiza o download de um app que está sendo anunciado e em apenas **0,25%** o app é baixado.\n",
    "\n",
    "Essa desproporção é um problema grave para a construção de modelos preditivos pois os fará aprender a identificar mais quando um indivúdo não efetua um download do que quando o faz e deveremos encontrar uma solução para isto. "
   ]
  },
  {
   "cell_type": "markdown",
   "metadata": {
    "colab_type": "text",
    "id": "881fWq7twOXX"
   },
   "source": [
    "#### **2.2.2 Balanceando dados de treino**"
   ]
  },
  {
   "cell_type": "markdown",
   "metadata": {
    "colab_type": "text",
    "id": "e_cJhM6LyEaP"
   },
   "source": [
    "Precisamos balancear os dados de treino de maneira que as proporções das classes da variável *is_attributed* sejam aproximamente iguais. Isto é, precisamos de um dataset que contenha a mesma quantidade de linhas com registros de indivíduos que tenham ou não feito download.\n",
    "\n",
    "Para solucionar este problema e ainda facilitar o manuseio destes dados na memória RAM, vamos criar um novo conjunto de dados de treino que contenha todos os registros do dataset original em que um download foi efetuado (**is_attributed** == 1). Com base no número de linhas obtidas na etapa anterior, iremos amostrar os registros do dataset original em que um download não foi efetuado (**is_attributed** == 0)."
   ]
  },
  {
   "cell_type": "code",
   "execution_count": 9,
   "metadata": {
    "colab": {
     "base_uri": "https://localhost:8080/",
     "height": 34
    },
    "colab_type": "code",
    "id": "bd0uLGdgK8xU",
    "outputId": "31094242-1754-4def-eaa8-706c0a175229"
   },
   "outputs": [
    {
     "data": {
      "text/html": [
       "<dl class=dl-horizontal>\n",
       "\t<dt>train_p1.csv</dt>\n",
       "\t\t<dd>'Saved!'</dd>\n",
       "\t<dt>train_p2.csv</dt>\n",
       "\t\t<dd>'Saved!'</dd>\n",
       "\t<dt>train_p3.csv</dt>\n",
       "\t\t<dd>'Saved!'</dd>\n",
       "\t<dt>train_p4.csv</dt>\n",
       "\t\t<dd>'Saved!'</dd>\n",
       "\t<dt>train_p5.csv</dt>\n",
       "\t\t<dd>'Saved!'</dd>\n",
       "</dl>\n"
      ],
      "text/latex": [
       "\\begin{description*}\n",
       "\\item[train\\textbackslash{}\\_p1.csv] 'Saved!'\n",
       "\\item[train\\textbackslash{}\\_p2.csv] 'Saved!'\n",
       "\\item[train\\textbackslash{}\\_p3.csv] 'Saved!'\n",
       "\\item[train\\textbackslash{}\\_p4.csv] 'Saved!'\n",
       "\\item[train\\textbackslash{}\\_p5.csv] 'Saved!'\n",
       "\\end{description*}\n"
      ],
      "text/markdown": [
       "train_p1.csv\n",
       ":   'Saved!'train_p2.csv\n",
       ":   'Saved!'train_p3.csv\n",
       ":   'Saved!'train_p4.csv\n",
       ":   'Saved!'train_p5.csv\n",
       ":   'Saved!'\n",
       "\n"
      ],
      "text/plain": [
       "train_p1.csv train_p2.csv train_p3.csv train_p4.csv train_p5.csv \n",
       "    \"Saved!\"     \"Saved!\"     \"Saved!\"     \"Saved!\"     \"Saved!\" "
      ]
     },
     "metadata": {},
     "output_type": "display_data"
    }
   ],
   "source": [
    "# Extraindo de cada chunk as linhas que contenham o registro de um download efetuado (is_attributed == 1).\n",
    "\n",
    "sapply(chunks, function(c) {\n",
    "    \n",
    "    # Carrega um chunk.\n",
    "\n",
    "    chunk <- fread(c, col.names = cNames)\n",
    "    \n",
    "    # Remove linhas duplicadas do dataset.\n",
    "\n",
    "    chunk <- chunk[!duplicated(chunk), ]\n",
    "\n",
    "    # Salva em um arquivo .csv as linhas em que is_attributed == 1.\n",
    "\n",
    "    fwrite(chunk[chunk$is_attributed == 1,], 'train.csv', append = TRUE)\n",
    "\n",
    "    # Define uma mensagem a ser retornada.\n",
    "\n",
    "    return('Saved!')\n",
    "})"
   ]
  },
  {
   "cell_type": "code",
   "execution_count": 10,
   "metadata": {
    "colab": {
     "base_uri": "https://localhost:8080/",
     "height": 34
    },
    "colab_type": "code",
    "id": "a-U1KedNRlFk",
    "outputId": "9130fd50-e94a-4116-8c85-f727e0315dc4"
   },
   "outputs": [
    {
     "data": {
      "text/html": [
       "<dl class=dl-horizontal>\n",
       "\t<dt>train_p1.csv</dt>\n",
       "\t\t<dd>'Saved!'</dd>\n",
       "\t<dt>train_p2.csv</dt>\n",
       "\t\t<dd>'Saved!'</dd>\n",
       "\t<dt>train_p3.csv</dt>\n",
       "\t\t<dd>'Saved!'</dd>\n",
       "\t<dt>train_p4.csv</dt>\n",
       "\t\t<dd>'Saved!'</dd>\n",
       "\t<dt>train_p5.csv</dt>\n",
       "\t\t<dd>'Saved!'</dd>\n",
       "</dl>\n"
      ],
      "text/latex": [
       "\\begin{description*}\n",
       "\\item[train\\textbackslash{}\\_p1.csv] 'Saved!'\n",
       "\\item[train\\textbackslash{}\\_p2.csv] 'Saved!'\n",
       "\\item[train\\textbackslash{}\\_p3.csv] 'Saved!'\n",
       "\\item[train\\textbackslash{}\\_p4.csv] 'Saved!'\n",
       "\\item[train\\textbackslash{}\\_p5.csv] 'Saved!'\n",
       "\\end{description*}\n"
      ],
      "text/markdown": [
       "train_p1.csv\n",
       ":   'Saved!'train_p2.csv\n",
       ":   'Saved!'train_p3.csv\n",
       ":   'Saved!'train_p4.csv\n",
       ":   'Saved!'train_p5.csv\n",
       ":   'Saved!'\n",
       "\n"
      ],
      "text/plain": [
       "train_p1.csv train_p2.csv train_p3.csv train_p4.csv train_p5.csv \n",
       "    \"Saved!\"     \"Saved!\"     \"Saved!\"     \"Saved!\"     \"Saved!\" "
      ]
     },
     "metadata": {},
     "output_type": "display_data"
    }
   ],
   "source": [
    "# Definindo o número de linhas em que houve download.\n",
    "\n",
    "classSizeYes <- t(totalTargetClass)[2]\n",
    "\n",
    "# Defindo o número de linhas em que não houve download que deve ser amostrado de cada chunk.\n",
    "\n",
    "classSampleSizeNo <- round(classSizeYes / length(chunks))\n",
    "\n",
    "# Definindo um seed para que o processo de amostragem sempre gere o mesmo resultado.\n",
    "\n",
    "set.seed(100)\n",
    "\n",
    "# Amostrando de cada chunk as linhas que contenham o registro de um download não efetuado (is_attributed == 0).\n",
    "\n",
    "sapply(chunks, function(c) {\n",
    "    \n",
    "    # Carrega um chunk.\n",
    "\n",
    "    chunk <- fread(c, col.names = cNames)\n",
    "\n",
    "    # Remove linhas duplicadas do dataset.\n",
    "\n",
    "    chunk <- chunk[!duplicated(chunk), ]\n",
    "\n",
    "    chunk <- chunk[chunk$is_attributed == 0, ]\n",
    "\n",
    "    # Salva em um arquivo .csv as linhas amostradas em que is_attributed == 0.\n",
    "\n",
    "    fwrite(chunk[sample(1:nrow(chunk), classSampleSizeNo),], 'train.csv', append = TRUE)\n",
    "\n",
    "    # Define uma mensagem a ser retornada.\n",
    "    \n",
    "    return('Saved!')\n",
    "})"
   ]
  },
  {
   "cell_type": "markdown",
   "metadata": {
    "colab_type": "text",
    "id": "rRmQTLOI8fmB"
   },
   "source": [
    "Vamos carregar o dataset gerado e ver os resultados."
   ]
  },
  {
   "cell_type": "code",
   "execution_count": 11,
   "metadata": {
    "colab": {},
    "colab_type": "code",
    "id": "f4QrmvNL8QSN"
   },
   "outputs": [],
   "source": [
    "# Carregando dataset.\n",
    "\n",
    "data = fread('train.csv')"
   ]
  },
  {
   "cell_type": "code",
   "execution_count": 12,
   "metadata": {
    "colab": {
     "base_uri": "https://localhost:8080/",
     "height": 34
    },
    "colab_type": "code",
    "id": "o_1fyi-S8QGD",
    "outputId": "19930b57-4b92-448a-e4b3-f6d0b50096b5"
   },
   "outputs": [
    {
     "data": {
      "text/html": [
       "'66.2 Mb'"
      ],
      "text/latex": [
       "'66.2 Mb'"
      ],
      "text/markdown": [
       "'66.2 Mb'"
      ],
      "text/plain": [
       "[1] \"66.2 Mb\""
      ]
     },
     "metadata": {},
     "output_type": "display_data"
    }
   ],
   "source": [
    "# Verificando o tamanho em Mbs do dataset.\n",
    "\n",
    "format(object.size(data), units = 'Mb')"
   ]
  },
  {
   "cell_type": "code",
   "execution_count": 13,
   "metadata": {
    "colab": {
     "base_uri": "https://localhost:8080/",
     "height": 437
    },
    "colab_type": "code",
    "id": "GDuktjgj9phl",
    "outputId": "3c7e0b70-cc7f-4619-d2cf-90bad371f721"
   },
   "outputs": [
    {
     "data": {
      "image/png": "[encoded data removed]",
      "text/plain": [
       "plot without title"
      ]
     },
     "metadata": {},
     "output_type": "display_data"
    }
   ],
   "source": [
    "# Plotando um gráfico para indicar a proporção de registros para cada classe da variável is_attributed.\n",
    "\n",
    "data %>%\n",
    "    mutate(Downloaded = factor(is_attributed, labels = c('No', 'Yes')))  %>%\n",
    "    ggplot(aes(x = Downloaded, fill = Downloaded)) + \n",
    "    geom_bar() + \n",
    "    labs(title = 'Data distribution for variable is_attributed by yours levels') + \n",
    "    ylab('rows') + \n",
    "    theme_bw() "
   ]
  },
  {
   "cell_type": "markdown",
   "metadata": {
    "colab_type": "text",
    "id": "qpLttKqC9qWV"
   },
   "source": [
    "Com isso finalizamos a preparação dos dados de treino para a nossa análise e encontramos uma solução para os problemas de memória RAM e desbalanceamento."
   ]
  },
  {
   "cell_type": "markdown",
   "metadata": {
    "colab_type": "text",
    "id": "wqfjAkkdwShi"
   },
   "source": [
    "### **2.3 Carregando dados de teste**"
   ]
  },
  {
   "cell_type": "markdown",
   "metadata": {
    "colab_type": "text",
    "id": "ZBaRBcfIPM00"
   },
   "source": [
    "De maneira similar ao que fizemos com o dataset de treino, contabilizamos o número total de linhas do dataset de teste com o auxílo da função *nlines()* do pacote **bigreadr** sem ter a necessidade de carregar os dados na memória RAM. Em seguida, dividimos o número de linhas por 5.\n",
    "\n",
    "```\n",
    "## Determina o número de linhas do dataset.\n",
    "#\n",
    "# Decrementamos o valor retornado em 1 unidade para desconsiderar a linha de cabeçalho (header). \n",
    "\n",
    "numDeChunks   <- 5\n",
    "totalDeLinhas <- nlines('test.csv') - 1 \n",
    "\n",
    "numMaxLinhasPorChunks <- round(totalDeLinhas / numDeChunks)\n",
    "```\n",
    "\n",
    "<p align = 'justify'> Como resultado, obtivemos que o número total de cada fragmento do dataset original deve conter 3.758.094 linhas.\n",
    "\n",
    "<p align = 'justify'> Utilizando o comando descrito abaixo no Git bash, realizamos efetivamente a divisão dos dados:\n",
    "\n",
    "* **split test.csv -l 3758094**\n",
    "\n",
    "Vamos visualizar as primeiras linhas de um dos chunks (fragmentos) criados."
   ]
  },
  {
   "cell_type": "code",
   "execution_count": 14,
   "metadata": {
    "colab": {
     "base_uri": "https://localhost:8080/",
     "height": 0
    },
    "colab_type": "code",
    "id": "L_cm5iJzwShj",
    "outputId": "4c67d582-ed06-4798-a616-d9ba9d38c361"
   },
   "outputs": [
    {
     "data": {
      "text/html": [
       "<table>\n",
       "<thead><tr><th scope=col>click_id</th><th scope=col>ip</th><th scope=col>app</th><th scope=col>device</th><th scope=col>os</th><th scope=col>channel</th><th scope=col>click_time</th></tr></thead>\n",
       "<tbody>\n",
       "\t<tr><td>0                  </td><td>  5744             </td><td> 9                 </td><td>1                  </td><td> 3                 </td><td>107                </td><td>2017-11-10 04:00:00</td></tr>\n",
       "\t<tr><td>1                  </td><td>119901             </td><td> 9                 </td><td>1                  </td><td> 3                 </td><td>466                </td><td>2017-11-10 04:00:00</td></tr>\n",
       "\t<tr><td>2                  </td><td> 72287             </td><td>21                 </td><td>1                  </td><td>19                 </td><td>128                </td><td>2017-11-10 04:00:00</td></tr>\n",
       "\t<tr><td>3                  </td><td> 78477             </td><td>15                 </td><td>1                  </td><td>13                 </td><td>111                </td><td>2017-11-10 04:00:00</td></tr>\n",
       "\t<tr><td>4                  </td><td>123080             </td><td>12                 </td><td>1                  </td><td>13                 </td><td>328                </td><td>2017-11-10 04:00:00</td></tr>\n",
       "\t<tr><td>5                  </td><td>110769             </td><td>18                 </td><td>1                  </td><td>13                 </td><td>107                </td><td>2017-11-10 04:00:00</td></tr>\n",
       "</tbody>\n",
       "</table>\n"
      ],
      "text/latex": [
       "\\begin{tabular}{r|lllllll}\n",
       " click\\_id & ip & app & device & os & channel & click\\_time\\\\\n",
       "\\hline\n",
       "\t 0                   &   5744              &  9                  & 1                   &  3                  & 107                 & 2017-11-10 04:00:00\\\\\n",
       "\t 1                   & 119901              &  9                  & 1                   &  3                  & 466                 & 2017-11-10 04:00:00\\\\\n",
       "\t 2                   &  72287              & 21                  & 1                   & 19                  & 128                 & 2017-11-10 04:00:00\\\\\n",
       "\t 3                   &  78477              & 15                  & 1                   & 13                  & 111                 & 2017-11-10 04:00:00\\\\\n",
       "\t 4                   & 123080              & 12                  & 1                   & 13                  & 328                 & 2017-11-10 04:00:00\\\\\n",
       "\t 5                   & 110769              & 18                  & 1                   & 13                  & 107                 & 2017-11-10 04:00:00\\\\\n",
       "\\end{tabular}\n"
      ],
      "text/markdown": [
       "\n",
       "| click_id | ip | app | device | os | channel | click_time |\n",
       "|---|---|---|---|---|---|---|\n",
       "| 0                   |   5744              |  9                  | 1                   |  3                  | 107                 | 2017-11-10 04:00:00 |\n",
       "| 1                   | 119901              |  9                  | 1                   |  3                  | 466                 | 2017-11-10 04:00:00 |\n",
       "| 2                   |  72287              | 21                  | 1                   | 19                  | 128                 | 2017-11-10 04:00:00 |\n",
       "| 3                   |  78477              | 15                  | 1                   | 13                  | 111                 | 2017-11-10 04:00:00 |\n",
       "| 4                   | 123080              | 12                  | 1                   | 13                  | 328                 | 2017-11-10 04:00:00 |\n",
       "| 5                   | 110769              | 18                  | 1                   | 13                  | 107                 | 2017-11-10 04:00:00 |\n",
       "\n"
      ],
      "text/plain": [
       "  click_id ip     app device os channel click_time         \n",
       "1 0          5744  9  1       3 107     2017-11-10 04:00:00\n",
       "2 1        119901  9  1       3 466     2017-11-10 04:00:00\n",
       "3 2         72287 21  1      19 128     2017-11-10 04:00:00\n",
       "4 3         78477 15  1      13 111     2017-11-10 04:00:00\n",
       "5 4        123080 12  1      13 328     2017-11-10 04:00:00\n",
       "6 5        110769 18  1      13 107     2017-11-10 04:00:00"
      ]
     },
     "metadata": {},
     "output_type": "display_data"
    }
   ],
   "source": [
    "# Determinando o nome de cada um dos fragmentos do dataset original.\n",
    "\n",
    "chunks <- c(\"test_p1.csv\", \"test_p2.csv\", \"test_p3.csv\", \"test_p4.csv\", \"test_p5.csv\")\n",
    "\n",
    "# Carregando o primeiro fragmento do conjunto de dados.\n",
    "\n",
    "chunk <- fread(chunks[1])\n",
    "\n",
    "# Imprimindo as primeiras linhas do dataset.\n",
    "\n",
    "head(chunk)\n",
    "\n",
    "# Removendo o dataset da memória.\n",
    "\n",
    "rm(chunk)"
   ]
  },
  {
   "cell_type": "markdown",
   "metadata": {
    "colab_type": "text",
    "id": "bBkHKmULRcz-"
   },
   "source": [
    "Segundo a [documentação](https://www.kaggle.com/c/talkingdata-adtracking-fraud-detection/data) referente ao projeto, a variável **click_id** é uma variável auxiliar que é utilizada apenas para identificar as predições a serem submetidas no Kaggle."
   ]
  },
  {
   "cell_type": "markdown",
   "metadata": {
    "colab_type": "text",
    "id": "gGhJKErBuFOn"
   },
   "source": [
    "## **3. Análise exploratória dos dados**"
   ]
  },
  {
   "cell_type": "markdown",
   "metadata": {
    "colab_type": "text",
    "id": "bEvXPgctDl34"
   },
   "source": [
    "### **3.1 Visão geral dos dados**"
   ]
  },
  {
   "cell_type": "markdown",
   "metadata": {
    "colab_type": "text",
    "id": "DtRE0f9Rknk6"
   },
   "source": [
    "Nesta etapa vamos buscar entender a disposição e as características dos dados dentro do dataset de treino além de  extrair insigths que possam auxiliar no processo de criação do modelo preditivo. "
   ]
  },
  {
   "cell_type": "code",
   "execution_count": 15,
   "metadata": {
    "colab": {
     "base_uri": "https://localhost:8080/",
     "height": 0
    },
    "colab_type": "code",
    "id": "iOYejAUra3Jt",
    "outputId": "116470a2-8568-4189-e4df-1babb53f7864"
   },
   "outputs": [
    {
     "name": "stdout",
     "output_type": "stream",
     "text": [
      "Observations: 913,690\n",
      "Variables: 8\n",
      "$ ip              <int> 204158, 29692, 64516, 172429, 199085, 82917, 126647...\n",
      "$ app             <int> 35, 9, 35, 35, 35, 19, 72, 29, 35, 19, 128, 29, 19,...\n",
      "$ device          <int> 1, 1, 1, 1, 1, 0, 1, 1, 1, 88, 1, 1, 0, 379, 1, 1, ...\n",
      "$ os              <int> 13, 22, 13, 46, 13, 24, 6, 41, 13, 24, 13, 19, 24, ...\n",
      "$ channel         <int> 21, 215, 21, 274, 274, 210, 101, 213, 21, 213, 243,...\n",
      "$ click_time      <chr> \"2017-11-06 15:41:07\", \"2017-11-06 16:00:02\", \"2017...\n",
      "$ attributed_time <chr> \"2017-11-07 08:17:19\", \"2017-11-07 10:05:22\", \"2017...\n",
      "$ is_attributed   <int> 1, 1, 1, 1, 1, 1, 1, 1, 1, 1, 1, 1, 1, 1, 1, 1, 1, ...\n"
     ]
    }
   ],
   "source": [
    "# Verificando os tipos das colunas carregadas do dataset.\n",
    "\n",
    "glimpse(data)"
   ]
  },
  {
   "cell_type": "code",
   "execution_count": 16,
   "metadata": {
    "colab": {
     "base_uri": "https://localhost:8080/",
     "height": 0
    },
    "colab_type": "code",
    "id": "5cKlAr7ha3ZT",
    "outputId": "e67ebb1b-87c2-4148-d18e-db5429f86c5d"
   },
   "outputs": [
    {
     "data": {
      "text/html": [
       "<dl class=dl-horizontal>\n",
       "\t<dt>ip</dt>\n",
       "\t\t<dd>FALSE</dd>\n",
       "\t<dt>app</dt>\n",
       "\t\t<dd>FALSE</dd>\n",
       "\t<dt>device</dt>\n",
       "\t\t<dd>FALSE</dd>\n",
       "\t<dt>os</dt>\n",
       "\t\t<dd>FALSE</dd>\n",
       "\t<dt>channel</dt>\n",
       "\t\t<dd>FALSE</dd>\n",
       "\t<dt>click_time</dt>\n",
       "\t\t<dd>FALSE</dd>\n",
       "\t<dt>attributed_time</dt>\n",
       "\t\t<dd>FALSE</dd>\n",
       "\t<dt>is_attributed</dt>\n",
       "\t\t<dd>FALSE</dd>\n",
       "</dl>\n"
      ],
      "text/latex": [
       "\\begin{description*}\n",
       "\\item[ip] FALSE\n",
       "\\item[app] FALSE\n",
       "\\item[device] FALSE\n",
       "\\item[os] FALSE\n",
       "\\item[channel] FALSE\n",
       "\\item[click\\textbackslash{}\\_time] FALSE\n",
       "\\item[attributed\\textbackslash{}\\_time] FALSE\n",
       "\\item[is\\textbackslash{}\\_attributed] FALSE\n",
       "\\end{description*}\n"
      ],
      "text/markdown": [
       "ip\n",
       ":   FALSEapp\n",
       ":   FALSEdevice\n",
       ":   FALSEos\n",
       ":   FALSEchannel\n",
       ":   FALSEclick_time\n",
       ":   FALSEattributed_time\n",
       ":   FALSEis_attributed\n",
       ":   FALSE\n",
       "\n"
      ],
      "text/plain": [
       "             ip             app          device              os         channel \n",
       "          FALSE           FALSE           FALSE           FALSE           FALSE \n",
       "     click_time attributed_time   is_attributed \n",
       "          FALSE           FALSE           FALSE "
      ]
     },
     "metadata": {},
     "output_type": "display_data"
    }
   ],
   "source": [
    "# Verificando a existência de valores NA no dataset.\n",
    "\n",
    "sapply(data, function(v) {anyNA(v)} )"
   ]
  },
  {
   "cell_type": "markdown",
   "metadata": {
    "colab_type": "text",
    "id": "ik_1Ti-smfqj"
   },
   "source": [
    "Vamos contabilizar o número de valores únicos que as variáveis **ip**, **app**, **device**, **os** e **channel** possuem."
   ]
  },
  {
   "cell_type": "code",
   "execution_count": 17,
   "metadata": {
    "colab": {
     "base_uri": "https://localhost:8080/",
     "height": 0
    },
    "colab_type": "code",
    "id": "RsW3FM--a3i0",
    "outputId": "f0c21d92-c4d2-4e4c-feb2-985041e246da"
   },
   "outputs": [
    {
     "data": {
      "text/html": [
       "<table>\n",
       "<thead><tr><th scope=col>ip</th><th scope=col>app</th><th scope=col>device</th><th scope=col>os</th><th scope=col>channel</th></tr></thead>\n",
       "<tbody>\n",
       "\t<tr><td>253014</td><td>334   </td><td>1884  </td><td>186   </td><td>180   </td></tr>\n",
       "</tbody>\n",
       "</table>\n"
      ],
      "text/latex": [
       "\\begin{tabular}{r|lllll}\n",
       " ip & app & device & os & channel\\\\\n",
       "\\hline\n",
       "\t 253014 & 334    & 1884   & 186    & 180   \\\\\n",
       "\\end{tabular}\n"
      ],
      "text/markdown": [
       "\n",
       "| ip | app | device | os | channel |\n",
       "|---|---|---|---|---|\n",
       "| 253014 | 334    | 1884   | 186    | 180    |\n",
       "\n"
      ],
      "text/plain": [
       "  ip     app device os  channel\n",
       "1 253014 334 1884   186 180    "
      ]
     },
     "metadata": {},
     "output_type": "display_data"
    }
   ],
   "source": [
    "# Verificando o número de valores únicos presentes em cada uma das variáveis especificadas.\n",
    "\n",
    "data[ , .(ip      = length(unique(ip)), \n",
    "          app     = length(unique(app)),\n",
    "          device  = length(unique(device)),\n",
    "          os      = length(unique(os)),\n",
    "          channel = length(unique(channel))\n",
    ")]"
   ]
  },
  {
   "cell_type": "markdown",
   "metadata": {
    "colab_type": "text",
    "id": "RQCa2gUuoEt7"
   },
   "source": [
    "Vemos que um IP pode estar relacionado a mais de um registro no dataset, ou seja, podemos ter o registro de um usuário associado a vários anúncios.\n",
    "\n",
    "Agora iremos analisar as variáveis **click_time** e **attributed_time**."
   ]
  },
  {
   "cell_type": "code",
   "execution_count": 18,
   "metadata": {
    "colab": {
     "base_uri": "https://localhost:8080/",
     "height": 0
    },
    "colab_type": "code",
    "id": "zFPUAxNva3nx",
    "outputId": "ffb6f1cc-cddd-4a39-ff3b-59be6f320d0d"
   },
   "outputs": [
    {
     "data": {
      "text/html": [
       "<dl class=dl-horizontal>\n",
       "\t<dt>click_time</dt>\n",
       "\t\t<dd>'character'</dd>\n",
       "\t<dt>attributed_time</dt>\n",
       "\t\t<dd>'character'</dd>\n",
       "</dl>\n"
      ],
      "text/latex": [
       "\\begin{description*}\n",
       "\\item[click\\textbackslash{}\\_time] 'character'\n",
       "\\item[attributed\\textbackslash{}\\_time] 'character'\n",
       "\\end{description*}\n"
      ],
      "text/markdown": [
       "click_time\n",
       ":   'character'attributed_time\n",
       ":   'character'\n",
       "\n"
      ],
      "text/plain": [
       "     click_time attributed_time \n",
       "    \"character\"     \"character\" "
      ]
     },
     "metadata": {},
     "output_type": "display_data"
    }
   ],
   "source": [
    "# Verificando os tipos das variáveis.\n",
    "\n",
    "sapply(data[ , .(click_time, attributed_time)], class)"
   ]
  },
  {
   "cell_type": "markdown",
   "metadata": {
    "colab_type": "text",
    "id": "mxzoBtrJvapL"
   },
   "source": [
    "Embora, estas colunas representem datas. O processo de carregamento dos dados não atribui o tipo de dado correto a estas variáveis. Deveremos realizar este procedimento manualmente."
   ]
  },
  {
   "cell_type": "code",
   "execution_count": 19,
   "metadata": {
    "colab": {
     "base_uri": "https://localhost:8080/",
     "height": 0
    },
    "colab_type": "code",
    "id": "FbvZkQ2Ha3tA",
    "outputId": "14b899af-c2bd-4bfc-f34d-86233eeb23c7"
   },
   "outputs": [
    {
     "data": {
      "text/plain": [
       "click_time\n",
       " FALSE \n",
       "913690 "
      ]
     },
     "metadata": {},
     "output_type": "display_data"
    }
   ],
   "source": [
    "# Verificando se a variável click_time possui strings vazias.\n",
    "\n",
    "table(click_time = data$click_time == '')"
   ]
  },
  {
   "cell_type": "code",
   "execution_count": 20,
   "metadata": {
    "colab": {
     "base_uri": "https://localhost:8080/",
     "height": 0
    },
    "colab_type": "code",
    "id": "41Ql1eRp6PdT",
    "outputId": "3ae01173-1080-43fd-e41c-d52f04435a4c"
   },
   "outputs": [
    {
     "data": {
      "text/plain": [
       "attributed_time\n",
       " FALSE   TRUE \n",
       "456845 456845 "
      ]
     },
     "metadata": {},
     "output_type": "display_data"
    }
   ],
   "source": [
    "# Verificando se a variável attributed_time possui strings vazias.\n",
    "\n",
    "table(attributed_time = data$attributed_time == '')"
   ]
  },
  {
   "cell_type": "markdown",
   "metadata": {
    "colab_type": "text",
    "id": "GITerj8y7Hlf"
   },
   "source": [
    "Note que alguns dos valores da coluna **attributed_time** estão vazios. Isto ocorre porque esta variável indica o instante de tempo em que o download de um determinado app ocorreu. Caso o download não tenha sido efetuado, o valor da coluna é preenchido com uma string vazia e deveremos tratar isso.\n",
    "\n",
    "Agora vamos nos certificar de que só existem dois grupos distintos dentro do conjunto de dados da variável que devemos prever."
   ]
  },
  {
   "cell_type": "code",
   "execution_count": 21,
   "metadata": {
    "colab": {
     "base_uri": "https://localhost:8080/",
     "height": 0
    },
    "colab_type": "code",
    "id": "MSa0ZpgGa3xm",
    "outputId": "b56b61c3-882a-48e4-dfb0-1a58ea795322"
   },
   "outputs": [
    {
     "data": {
      "text/html": [
       "<table>\n",
       "<thead><tr><th scope=col>is_attributed</th></tr></thead>\n",
       "<tbody>\n",
       "\t<tr><td>1</td></tr>\n",
       "\t<tr><td>0</td></tr>\n",
       "</tbody>\n",
       "</table>\n"
      ],
      "text/latex": [
       "\\begin{tabular}{r|l}\n",
       " is\\_attributed\\\\\n",
       "\\hline\n",
       "\t 1\\\\\n",
       "\t 0\\\\\n",
       "\\end{tabular}\n"
      ],
      "text/markdown": [
       "\n",
       "| is_attributed |\n",
       "|---|\n",
       "| 1 |\n",
       "| 0 |\n",
       "\n"
      ],
      "text/plain": [
       "  is_attributed\n",
       "1 1            \n",
       "2 0            "
      ]
     },
     "metadata": {},
     "output_type": "display_data"
    }
   ],
   "source": [
    "# Verificando as classes únicas presentes no dataset.\n",
    "\n",
    "data[ , .(is_attributed = unique(is_attributed))]"
   ]
  },
  {
   "cell_type": "markdown",
   "metadata": {
    "colab_type": "text",
    "id": "9zoga80pBxq_"
   },
   "source": [
    "Perfeito! Só existem dois valores distintos dentro do conjunto de dados da variável alvo: \n",
    "* **1**: para os registros em que o download foi realizado e;\n",
    "* **0**: para os registros em que o download não foi realizado. "
   ]
  },
  {
   "cell_type": "markdown",
   "metadata": {
    "colab_type": "text",
    "id": "DL61qBxhuoDi"
   },
   "source": [
    "### **3.2 Data Munging**"
   ]
  },
  {
   "cell_type": "markdown",
   "metadata": {
    "colab_type": "text",
    "id": "rTa7KncTEX1k"
   },
   "source": [
    "Vamos começar tratando as strings vazias presentes na variável **attributed_time** e aplicando algumas conversões de tipo de dados em algumas colunas do dataset."
   ]
  },
  {
   "cell_type": "code",
   "execution_count": 22,
   "metadata": {
    "colab": {},
    "colab_type": "code",
    "id": "Yk6xWP56PidS"
   },
   "outputs": [],
   "source": [
    "# Alterando strings vazias presentes na variável attributed_time para NA.\n",
    "\n",
    "data$attributed_time[data$attributed_time == ''] = NA\n",
    "\n",
    "# Convertendo a variável click_time para o tipo date.\n",
    "\n",
    "data$click_time <- fastPOSIXct(data$click_time)\n",
    "\n",
    "# Convertendo a variável attributed_time para o tipo date.\n",
    "\n",
    "data$attributed_time <- fastPOSIXct(data$attributed_time)"
   ]
  },
  {
   "cell_type": "markdown",
   "metadata": {
    "colab_type": "text",
    "id": "1jD-NMEVHoI_"
   },
   "source": [
    "### **3.3 Avaliando as variáveis de data do dataset**"
   ]
  },
  {
   "cell_type": "markdown",
   "metadata": {
    "colab_type": "text",
    "id": "NcsSqZqSaJSm"
   },
   "source": [
    "Iremos iniciar esta etapa verificando a distribuição das datas em que ocorreram os cliques em anúncios registrados no dataset de treino."
   ]
  },
  {
   "cell_type": "code",
   "execution_count": 23,
   "metadata": {
    "colab": {
     "base_uri": "https://localhost:8080/",
     "height": 0
    },
    "colab_type": "code",
    "id": "RG4lCs2Rex0n",
    "outputId": "86b5e7b7-b733-4863-c553-8e6e5e19f342"
   },
   "outputs": [
    {
     "data": {
      "text/plain": [
       "                 Min.               1st Qu.                Median \n",
       "\"2017-11-06 13:39:47\" \"2017-11-07 09:15:58\" \"2017-11-08 04:42:02\" \n",
       "                 Mean               3rd Qu.                  Max. \n",
       "\"2017-11-08 04:25:05\" \"2017-11-09 00:21:43\" \"2017-11-09 14:00:00\" "
      ]
     },
     "metadata": {},
     "output_type": "display_data"
    }
   ],
   "source": [
    "# Verificando a distribuição das datas presentes na variável click_time.\n",
    "\n",
    "summary(data$click_time)"
   ]
  },
  {
   "cell_type": "markdown",
   "metadata": {
    "colab_type": "text",
    "id": "m9dKX6vCeeMJ"
   },
   "source": [
    "Vamos verificar a amplitude da variável click_time, ou seja, o período de tempo entre o primeiro e o último registro presente neste conjunto de dados."
   ]
  },
  {
   "cell_type": "code",
   "execution_count": 24,
   "metadata": {
    "colab": {
     "base_uri": "https://localhost:8080/",
     "height": 0
    },
    "colab_type": "code",
    "id": "JNNGfjaKex9N",
    "outputId": "5c390e8c-3a27-43a5-b855-e9fa95eec4fd"
   },
   "outputs": [
    {
     "data": {
      "text/plain": [
       "Time difference of 3.014039 days"
      ]
     },
     "metadata": {},
     "output_type": "display_data"
    }
   ],
   "source": [
    "# Calculando o período de tempo em que os dados presentes no dataset foram capturados.\n",
    "\n",
    "max(data$click_time) - min(data$click_time)\n"
   ]
  },
  {
   "cell_type": "markdown",
   "metadata": {
    "colab_type": "text",
    "id": "5bshsLI8fpgN"
   },
   "source": [
    "Ou seja, temos dados que variam durante um período de aproximadamente 3 dias.\n",
    "\n",
    "Muito bem, vamos criar um gráfico de séries temporais para verificar a frequência de cliques em anúncios que levaram a downloads a cada 3 horas durante esse período."
   ]
  },
  {
   "cell_type": "code",
   "execution_count": 25,
   "metadata": {
    "colab": {
     "base_uri": "https://localhost:8080/",
     "height": 0
    },
    "colab_type": "code",
    "id": "WpCW_A6ueyKM",
    "outputId": "ad94f8d3-e018-4726-aba1-f52d1d0bd89b"
   },
   "outputs": [
    {
     "data": {
      "image/png": "[encoded data removed]",
      "text/plain": [
       "plot without title"
      ]
     },
     "metadata": {},
     "output_type": "display_data"
    }
   ],
   "source": [
    "# Criando um gráfico de série temporal para verificar o número de cliques em anúncios por hora que levaram a downloads de apps durante o período de tempo obtido no dataset.\n",
    "\n",
    "data %>%\n",
    "  mutate(datesTrunc = floor_date(click_time, unit = 'hour')) %>%\n",
    "  group_by(datesTrunc) %>%\n",
    "  summarise(downloadsRealized = sum(is_attributed)) %>%\n",
    "  ggplot(aes(x = datesTrunc, y = downloadsRealized)) +\n",
    "  geom_line() +\n",
    "  scale_x_datetime(date_breaks = '3 hours', date_labels = '%d %b - %H') +\n",
    "  theme_bw() + \n",
    "  theme(axis.text.x = element_text(angle = 60, hjust = 1)) + \n",
    "  xlab('Times of day') +\n",
    "  ylab('Downloads realized') +\n",
    "  labs(title = 'Downloads for hours')"
   ]
  },
  {
   "cell_type": "markdown",
   "metadata": {
    "colab_type": "text",
    "id": "h0k9K7n45RT2"
   },
   "source": [
    "O gráfico demostra que há aproximadamente o mesmo padrão de frequência de downloads durante os 3 dias tendo os maiores números de download entre as **23h e 14h** e os menores entre as **17h e 23h**.\n",
    "\n",
    "Criaremos o mesmo tipo de gráfico para verificar a frequência de cliques em anúncios que não levaram a downloads a cada 3 horas durante esse período."
   ]
  },
  {
   "cell_type": "code",
   "execution_count": 26,
   "metadata": {
    "colab": {
     "base_uri": "https://localhost:8080/",
     "height": 0
    },
    "colab_type": "code",
    "id": "Xvut-exceyHw",
    "outputId": "8cb5054e-5750-4c06-cf9b-4640f3f1b483"
   },
   "outputs": [
    {
     "data": {
      "image/png": "[encoded data removed]",
      "text/plain": [
       "plot without title"
      ]
     },
     "metadata": {},
     "output_type": "display_data"
    }
   ],
   "source": [
    "# Criando um gráfico de série temporal para verificar o número de cliques em anúncios por hora que não levaram a downloads de apps durante o período de tempo obtido no dataset.\n",
    "\n",
    "data %>%\n",
    "  mutate(datesTrunc = floor_date(click_time, unit = 'hour')) %>%\n",
    "  group_by(datesTrunc) %>%\n",
    "  summarise(unrealizedDownloads = sum(!is_attributed)) %>%\n",
    "  ggplot(aes(x = datesTrunc, y = unrealizedDownloads)) +\n",
    "  geom_line() +\n",
    "  scale_x_datetime(date_breaks = '3 hours', date_labels = '%d %b - %H') +\n",
    "  theme_bw() + \n",
    "  theme(axis.text.x = element_text(angle = 60, hjust = 1)) + \n",
    "  xlab('Times of day') +\n",
    "  ylab('Unrealized downloads') +\n",
    "  labs(title = 'Unrealized downloads for hours')\n"
   ]
  },
  {
   "cell_type": "markdown",
   "metadata": {
    "colab_type": "text",
    "id": "KRZ_AmDnEFZB"
   },
   "source": [
    "As frequência de downloads realizados e não realizados parecem seguir a mesma tendência em cada hora de acordo com as horas dos dias. \n",
    "\n",
    "Vamos plotar as duas séries em um mesmo gráfico para verificar isto."
   ]
  },
  {
   "cell_type": "code",
   "execution_count": 27,
   "metadata": {
    "colab": {
     "base_uri": "https://localhost:8080/",
     "height": 0
    },
    "colab_type": "code",
    "id": "0wmC18h_eL4X",
    "outputId": "24f5b49b-4b8f-4b69-8fde-3d8719900a3a"
   },
   "outputs": [
    {
     "data": {
      "image/png": "[encoded data removed]",
      "text/plain": [
       "plot without title"
      ]
     },
     "metadata": {},
     "output_type": "display_data"
    }
   ],
   "source": [
    "# Criando um gráfico de série temporal para verificar o número de cliques em anúncios por hora que levaram ou não a downloads de apps durante o período de tempo obtido no dataset.\n",
    "\n",
    "data %>%\n",
    "  mutate(datesTrunc = floor_date(click_time, unit = 'hour')) %>%\n",
    "  group_by(datesTrunc) %>%\n",
    "  summarise(downloadsRealized = sum(is_attributed),\n",
    "            unrealizedDownloads = sum(!is_attributed)) %>%\n",
    "  ggplot() +\n",
    "  geom_line(aes(x = datesTrunc, y = downloadsRealized, color = 'Yes')) +\n",
    "  geom_line(aes(x = datesTrunc, y = unrealizedDownloads, color = 'No')) +\n",
    "  scale_x_datetime(date_breaks = '3 hours', date_labels = '%d %b - %H') +\n",
    "  theme_bw(base_size = 15) + \n",
    "  theme(axis.text.x = element_text(angle = 60, hjust = 1)) + \n",
    "  xlab('Times of day') +\n",
    "  ylab('Is Attributed') +\n",
    "  labs(title = 'Classes in the target variable', colour = 'Downloaded')\n"
   ]
  },
  {
   "cell_type": "markdown",
   "metadata": {
    "colab_type": "text",
    "id": "Co9eI5GhL3Fc"
   },
   "source": [
    "Esta similaridade entre estas duas classes mostra os horários em que os anúncios são mais ou menos acessados durante o dia."
   ]
  },
  {
   "cell_type": "markdown",
   "metadata": {
    "colab_type": "text",
    "id": "MI8hzF0y_mLG"
   },
   "source": [
    "## **4. Feature Engennier**\n"
   ]
  },
  {
   "cell_type": "markdown",
   "metadata": {
    "colab_type": "text",
    "id": "UC7MmC81Qno3"
   },
   "source": [
    "Precisamos preparar nosso dataset de treino para a fase de modelagem preditiva. Como a variável **attributed_time** registra o instante de tempo em que o evento que desejamos prever ocorre, iremos removê-la do nosso conjunto de dados.\n",
    "\n",
    "Como não é viável manipular diretamente as datas da variável **click_time**, iremos apenas extrair os dias e as horas de cada registro e armazená-las em novas variáveis (**day** e **hour**).\n",
    "\n",
    "A variável **ip** apresenta uma grande quantidade de valores únicos em relação as demais variáveis e por isso, iremos apenas utilizá-la indiretamente para a criação de novas variáveis a partir de agrupamentos.\n"
   ]
  },
  {
   "cell_type": "code",
   "execution_count": 28,
   "metadata": {
    "colab": {},
    "colab_type": "code",
    "id": "fML0HJDswSiI"
   },
   "outputs": [],
   "source": [
    "# Criando e removendo variáveis do dataset de treino.\n",
    "\n",
    "data <- data %>%  \n",
    "  select(-c(attributed_time)) %>%\n",
    "  mutate(day = day(click_time), hour = hour(click_time)) %>% \n",
    "  select(-c(click_time)) %>%\n",
    "  add_count(ip, day, hour)     %>% rename(\"ipDayHour\"     = n)  %>%\n",
    "  add_count(ip, hour, channel) %>% rename(\"ipHourChannel\" = n) %>%\n",
    "  add_count(ip, hour, os)      %>% rename(\"ipHourOs\"      = n)  %>%\n",
    "  add_count(ip, hour, app)     %>% rename(\"ipHourApp\"     = n)  %>%\n",
    "  add_count(ip, hour, device)  %>% rename(\"ipHourDevice\"  = n)  %>%\n",
    "  select(-c(ip))"
   ]
  },
  {
   "cell_type": "markdown",
   "metadata": {
    "colab_type": "text",
    "id": "9s82Uw8OW0pq"
   },
   "source": [
    "O dataset de teste precisa passar pelo mesmo processo de feature engennier que os dados de treino e é isso que faremos a seguir. Como os dados de teste estão segmentados em chunks deveremos aplicar este procedimento iterativamente em cada um."
   ]
  },
  {
   "cell_type": "code",
   "execution_count": 29,
   "metadata": {
    "colab": {
     "base_uri": "https://localhost:8080/",
     "height": 34
    },
    "colab_type": "code",
    "id": "8bjO7JcpXLNL",
    "outputId": "73faa4b1-89c2-4fdc-d9c2-a0a99dc6e1d1"
   },
   "outputs": [
    {
     "data": {
      "text/html": [
       "<dl class=dl-horizontal>\n",
       "\t<dt>test_p1.csv</dt>\n",
       "\t\t<dd>'Saved!'</dd>\n",
       "\t<dt>test_p2.csv</dt>\n",
       "\t\t<dd>'Saved!'</dd>\n",
       "\t<dt>test_p3.csv</dt>\n",
       "\t\t<dd>'Saved!'</dd>\n",
       "\t<dt>test_p4.csv</dt>\n",
       "\t\t<dd>'Saved!'</dd>\n",
       "\t<dt>test_p5.csv</dt>\n",
       "\t\t<dd>'Saved!'</dd>\n",
       "</dl>\n"
      ],
      "text/latex": [
       "\\begin{description*}\n",
       "\\item[test\\textbackslash{}\\_p1.csv] 'Saved!'\n",
       "\\item[test\\textbackslash{}\\_p2.csv] 'Saved!'\n",
       "\\item[test\\textbackslash{}\\_p3.csv] 'Saved!'\n",
       "\\item[test\\textbackslash{}\\_p4.csv] 'Saved!'\n",
       "\\item[test\\textbackslash{}\\_p5.csv] 'Saved!'\n",
       "\\end{description*}\n"
      ],
      "text/markdown": [
       "test_p1.csv\n",
       ":   'Saved!'test_p2.csv\n",
       ":   'Saved!'test_p3.csv\n",
       ":   'Saved!'test_p4.csv\n",
       ":   'Saved!'test_p5.csv\n",
       ":   'Saved!'\n",
       "\n"
      ],
      "text/plain": [
       "test_p1.csv test_p2.csv test_p3.csv test_p4.csv test_p5.csv \n",
       "   \"Saved!\"    \"Saved!\"    \"Saved!\"    \"Saved!\"    \"Saved!\" "
      ]
     },
     "metadata": {},
     "output_type": "display_data"
    }
   ],
   "source": [
    "# Determinando o nome de cada um dos fragmentos do dataset original.\n",
    "\n",
    "chunks <- c(\"test_p1.csv\", \"test_p2.csv\", \"test_p3.csv\", \"test_p4.csv\", \"test_p5.csv\")\n",
    "\n",
    "# Carregando o primeiro fragmento do conjunto de dados.\n",
    "\n",
    "chunk <- fread(chunks[1])\n",
    "\n",
    "# Capturando o nome das colunas do dataset.\n",
    "\n",
    "cNames <- colnames(chunk)\n",
    "\n",
    "# Removendo o dataset da memória.\n",
    "\n",
    "rm(chunk)\n",
    "\n",
    "# Criando e removendo variáveis de cada chunk do dataset de teste.\n",
    "\n",
    "sapply(chunks, function(c) {\n",
    "    \n",
    "    # Carrega um chunk.\n",
    "\n",
    "    chunk <- fread(c, col.names = cNames)\n",
    "\n",
    "    # Cria e remove variáveis do chunk.\n",
    "\n",
    "    chunk <- chunk %>%  \n",
    "      mutate(day = day(click_time), hour = hour(click_time)) %>% \n",
    "      select(-c(click_time)) %>%\n",
    "      add_count(ip, day, hour)     %>% rename(\"ipDayHour\"     = n)  %>%\n",
    "      add_count(ip, hour, channel) %>% rename(\"ipHourChannel\" = n) %>%\n",
    "      add_count(ip, hour, os)      %>% rename(\"ipHourOs\"      = n)  %>%\n",
    "      add_count(ip, hour, app)     %>% rename(\"ipHourApp\"     = n)  %>%\n",
    "      add_count(ip, hour, device)  %>% rename(\"ipHourDevice\"  = n)  %>%\n",
    "      select(-c(ip))\n",
    "\n",
    "    # Salva os resultados dos procedimentos efetuados em um arquivo .csv.\n",
    "    \n",
    "    fwrite(chunk, paste('conv_', c, sep = ''), append = TRUE)\n",
    "\n",
    "    return('Saved!')\n",
    "})"
   ]
  },
  {
   "cell_type": "markdown",
   "metadata": {
    "colab_type": "text",
    "id": "Rx2MjiPcnOWW"
   },
   "source": [
    "## **5. Modelagem Preditiva**"
   ]
  },
  {
   "cell_type": "markdown",
   "metadata": {
    "colab_type": "text",
    "id": "-fLX5xoMs-VH"
   },
   "source": [
    "### **5.1 Importando bibliotecas necessárias**"
   ]
  },
  {
   "cell_type": "markdown",
   "metadata": {
    "colab_type": "text",
    "id": "TWMgIVCVtH2_"
   },
   "source": [
    "Importaremos todas as bibliotecas necessárias para esta fase de modelagem preditiva."
   ]
  },
  {
   "cell_type": "code",
   "execution_count": null,
   "metadata": {
    "colab": {
     "base_uri": "https://localhost:8080/",
     "height": 476
    },
    "colab_type": "code",
    "id": "B2ewjZ0tsc9M",
    "outputId": "093dc736-13c7-4936-e5db-5674070f737e"
   },
   "outputs": [],
   "source": [
    "## Caso não possua uma das bibliotecas importadas abaixo, a instale com um dos comandos a seguir:\n",
    "\n",
    "install.packages('caret',        repos='http://cran.rstudio.com/')\n",
    "install.packages('e1071',        repos='http://cran.rstudio.com/')\n",
    "install.packages('randomForest', repos='http://cran.rstudio.com/')\n",
    "install.packages('pROC',         repos='http://cran.rstudio.com/')\n",
    "install.packages('C50',          repos='http://cran.rstudio.com/')\n",
    "install.packages('fastAdaboost', repos='http://cran.rstudio.com/')\n",
    "install.packages('xgboost',      repos='http://cran.rstudio.com/')"
   ]
  },
  {
   "cell_type": "code",
   "execution_count": null,
   "metadata": {
    "colab": {},
    "colab_type": "code",
    "id": "a5Y9nD35ftD9"
   },
   "outputs": [],
   "source": [
    "# Importando bibliotecas.\n",
    "\n",
    "library(caret)\n",
    "library(e1071)\n",
    "library(randomForest)\n",
    "library(pROC)\n",
    "library(C50)\n",
    "library(fastAdaboost)\n",
    "library(xgboost)"
   ]
  },
  {
   "cell_type": "markdown",
   "metadata": {
    "colab_type": "text",
    "id": "2QYSwZA-tZVb"
   },
   "source": [
    "Antes de começarmos, vamos dar uma olhada na forma do dataset que foi gerado após a fase de Feature Engennier. Também salvaremos este novo conjunto de dados para evitar que tenhamos que repetir todas as etapas efetuadas acima caso seja necessário.\n",
    "\n",
    "Alguns dos algoritmos que iremos utilizar necessitam que a variável target seja do tipo factor, por isso iremos convertê-la a seguir."
   ]
  },
  {
   "cell_type": "code",
   "execution_count": 32,
   "metadata": {
    "colab": {
     "base_uri": "https://localhost:8080/",
     "height": 204
    },
    "colab_type": "code",
    "id": "Ah2njmUD0mYH",
    "outputId": "34f2c03f-22e7-4a43-9f16-c619a94a5d32"
   },
   "outputs": [
    {
     "data": {
      "text/html": [
       "<table>\n",
       "<thead><tr><th scope=col>app</th><th scope=col>device</th><th scope=col>os</th><th scope=col>channel</th><th scope=col>is_attributed</th><th scope=col>day</th><th scope=col>hour</th><th scope=col>ipDayHour</th><th scope=col>ipHourChannel</th><th scope=col>ipHourOs</th><th scope=col>ipHourApp</th><th scope=col>ipHourDevice</th></tr></thead>\n",
       "<tbody>\n",
       "\t<tr><td>35 </td><td>1  </td><td>13 </td><td> 21</td><td>1  </td><td>6  </td><td>13 </td><td>1  </td><td>1  </td><td>1  </td><td>1  </td><td>1  </td></tr>\n",
       "\t<tr><td> 9 </td><td>1  </td><td>22 </td><td>215</td><td>1  </td><td>6  </td><td>14 </td><td>1  </td><td>1  </td><td>1  </td><td>1  </td><td>2  </td></tr>\n",
       "\t<tr><td>35 </td><td>1  </td><td>13 </td><td> 21</td><td>1  </td><td>6  </td><td>14 </td><td>3  </td><td>2  </td><td>3  </td><td>2  </td><td>5  </td></tr>\n",
       "\t<tr><td>35 </td><td>1  </td><td>46 </td><td>274</td><td>1  </td><td>6  </td><td>14 </td><td>1  </td><td>1  </td><td>1  </td><td>1  </td><td>1  </td></tr>\n",
       "\t<tr><td>35 </td><td>1  </td><td>13 </td><td>274</td><td>1  </td><td>6  </td><td>14 </td><td>1  </td><td>1  </td><td>1  </td><td>1  </td><td>1  </td></tr>\n",
       "\t<tr><td>19 </td><td>0  </td><td>24 </td><td>210</td><td>1  </td><td>6  </td><td>14 </td><td>1  </td><td>1  </td><td>1  </td><td>1  </td><td>1  </td></tr>\n",
       "</tbody>\n",
       "</table>\n"
      ],
      "text/latex": [
       "\\begin{tabular}{r|llllllllllll}\n",
       " app & device & os & channel & is\\_attributed & day & hour & ipDayHour & ipHourChannel & ipHourOs & ipHourApp & ipHourDevice\\\\\n",
       "\\hline\n",
       "\t 35  & 1   & 13  &  21 & 1   & 6   & 13  & 1   & 1   & 1   & 1   & 1  \\\\\n",
       "\t  9  & 1   & 22  & 215 & 1   & 6   & 14  & 1   & 1   & 1   & 1   & 2  \\\\\n",
       "\t 35  & 1   & 13  &  21 & 1   & 6   & 14  & 3   & 2   & 3   & 2   & 5  \\\\\n",
       "\t 35  & 1   & 46  & 274 & 1   & 6   & 14  & 1   & 1   & 1   & 1   & 1  \\\\\n",
       "\t 35  & 1   & 13  & 274 & 1   & 6   & 14  & 1   & 1   & 1   & 1   & 1  \\\\\n",
       "\t 19  & 0   & 24  & 210 & 1   & 6   & 14  & 1   & 1   & 1   & 1   & 1  \\\\\n",
       "\\end{tabular}\n"
      ],
      "text/markdown": [
       "\n",
       "| app | device | os | channel | is_attributed | day | hour | ipDayHour | ipHourChannel | ipHourOs | ipHourApp | ipHourDevice |\n",
       "|---|---|---|---|---|---|---|---|---|---|---|---|\n",
       "| 35  | 1   | 13  |  21 | 1   | 6   | 13  | 1   | 1   | 1   | 1   | 1   |\n",
       "|  9  | 1   | 22  | 215 | 1   | 6   | 14  | 1   | 1   | 1   | 1   | 2   |\n",
       "| 35  | 1   | 13  |  21 | 1   | 6   | 14  | 3   | 2   | 3   | 2   | 5   |\n",
       "| 35  | 1   | 46  | 274 | 1   | 6   | 14  | 1   | 1   | 1   | 1   | 1   |\n",
       "| 35  | 1   | 13  | 274 | 1   | 6   | 14  | 1   | 1   | 1   | 1   | 1   |\n",
       "| 19  | 0   | 24  | 210 | 1   | 6   | 14  | 1   | 1   | 1   | 1   | 1   |\n",
       "\n"
      ],
      "text/plain": [
       "  app device os channel is_attributed day hour ipDayHour ipHourChannel ipHourOs\n",
       "1 35  1      13  21     1             6   13   1         1             1       \n",
       "2  9  1      22 215     1             6   14   1         1             1       \n",
       "3 35  1      13  21     1             6   14   3         2             3       \n",
       "4 35  1      46 274     1             6   14   1         1             1       \n",
       "5 35  1      13 274     1             6   14   1         1             1       \n",
       "6 19  0      24 210     1             6   14   1         1             1       \n",
       "  ipHourApp ipHourDevice\n",
       "1 1         1           \n",
       "2 1         2           \n",
       "3 2         5           \n",
       "4 1         1           \n",
       "5 1         1           \n",
       "6 1         1           "
      ]
     },
     "metadata": {},
     "output_type": "display_data"
    }
   ],
   "source": [
    "# Exibe as primeiras linhas do dataset.\n",
    "\n",
    "head(data)\n",
    "\n",
    "# Salva em um arquivo .csv o dataset especificado.\n",
    "\n",
    "fwrite(data, 'data.csv')\n",
    "\n",
    "# Convertendo variável target para o tipo factor.\n",
    "\n",
    "data$is_attributed <- as.factor(data$is_attributed)"
   ]
  },
  {
   "cell_type": "markdown",
   "metadata": {
    "colab_type": "text",
    "id": "WFpzM8OIvH1o"
   },
   "source": [
    "### **5.2 Avaliando a importância das variáveis com o algoritmo Random Forest**"
   ]
  },
  {
   "cell_type": "markdown",
   "metadata": {
    "colab_type": "text",
    "id": "47HKV0pvxlbm"
   },
   "source": [
    "Antes de iniciarmos a criação dos modelos propriamente dita, é interessante definirmos o quanto cada variável dentro do dataset ajuda a prever o valor da variável target.\n",
    "\n",
    "Para fazermos isto, utilizaremos o algoritmo **Random Forest** para computar estes valores. Como não sabemos qual o ajuste de parâmetros do algoritmo é mais adequado para o nosso conjunto de dados, criaremos modelos que possuam de 1 a 15 árvores com 1 a 40 nós.\n",
    "\n",
    "Salvaremos a acurárica de cada modelo em um Dataframe. Note que por ser um processo de treinamento muito demorado, salvamos os resultados obtidos  em um arquivo .csv que pode ser carregado com os resultados gerados pelo bloco de código a seguir."
   ]
  },
  {
   "cell_type": "code",
   "execution_count": null,
   "metadata": {
    "colab": {},
    "colab_type": "code",
    "id": "iyTpZYfg9PPi"
   },
   "outputs": [],
   "source": [
    "# Criando o dataframe para salvar os resultados dos modelos.\n",
    "\n",
    "featuresRF <- data.frame()\n",
    "\n",
    "# Definindo o número de nós e árvores a serem combinados para a criação de diferentes modelos.\n",
    "\n",
    "nTrees <- 1:15\n",
    "nNodes <- 1:40\n",
    "\n",
    "# Define o número total de modelos a serem criados.\n",
    "\n",
    "total <- length(nTrees) * length(nNodes)\n",
    "\n",
    "# Define uma varíavel auxiliar para permitir o acompanhamento do progresso na avaliação dos modelos criados.\n",
    "\n",
    "count <- 0\n",
    "\n",
    "for(t in nTrees) {\n",
    "    \n",
    "  for(n in nNodes) {\n",
    "    \n",
    "    # Define um seed para permitir que os mesmos resultados dos experimentos sejam reproduzíveis.\n",
    "    \n",
    "    set.seed(100)\n",
    "    \n",
    "    # Cria o modelo Random Forest a ser avaliado.\n",
    "\n",
    "    model <- randomForest(is_attributed ~ .,\n",
    "                          data       = data, \n",
    "                          ntree      = t, \n",
    "                          nodesize   = n, \n",
    "                          importance = T)\n",
    "    \n",
    "    # Computa a confusionMatrix gerada a partir do modelo criado.\n",
    "\n",
    "    cm <- confusionMatrix(table(\n",
    "        data      = model$y, \n",
    "        reference = model$predicted\n",
    "    ))\n",
    "    \n",
    "    # Armazena os parâmetros utilizados para criação do modelo e a acurácia obtida no dataframe.\n",
    "\n",
    "    featuresRF <- rbind(featuresRF, data.frame(\n",
    "        nodes    = n, \n",
    "        nTree    = t, \n",
    "        accuracy = unname(cm$overall['Accuracy'])\n",
    "    ))\n",
    "    \n",
    "    # Incrementa o número de modelos avaliados.\n",
    "\n",
    "    count <- count + 1\n",
    "\n",
    "    # Imprime a porcetagem de progresso do treinamento e a melhor acurácia já alcançada.\n",
    "\n",
    "    # print(paste(100 * count / total, '%, best accuracy: ', max(featuresRF$accuracy)))\n",
    "  }\n",
    "}\n",
    "\n",
    "# Salvando dataframe em um arquivo .csv.\n",
    "\n",
    "fwrite(featuresRF, 'featuresRF.csv')"
   ]
  },
  {
   "cell_type": "markdown",
   "metadata": {},
   "source": [
    "Caso deseje carregar os resultados gerados pelo bloco de código anterior:"
   ]
  },
  {
   "cell_type": "code",
   "execution_count": 49,
   "metadata": {},
   "outputs": [],
   "source": [
    "# Carregando dataframe com os resultados obtidos para cada modelo randomForest criado.\n",
    "\n",
    "featuresRF <- fread('featuresRF.csv')"
   ]
  },
  {
   "cell_type": "markdown",
   "metadata": {
    "colab_type": "text",
    "id": "PPf_utjV2vpe"
   },
   "source": [
    "Imprimiremos o registro do modelo que apresentou a melhor acurácia."
   ]
  },
  {
   "cell_type": "code",
   "execution_count": 50,
   "metadata": {
    "colab": {},
    "colab_type": "code",
    "id": "ICc8pNNTBKnl"
   },
   "outputs": [
    {
     "data": {
      "text/html": [
       "<table>\n",
       "<thead><tr><th scope=col>nodes</th><th scope=col>nTree</th><th scope=col>accuracy</th></tr></thead>\n",
       "<tbody>\n",
       "\t<tr><td>1        </td><td>15       </td><td>0.9332079</td></tr>\n",
       "</tbody>\n",
       "</table>\n"
      ],
      "text/latex": [
       "\\begin{tabular}{r|lll}\n",
       " nodes & nTree & accuracy\\\\\n",
       "\\hline\n",
       "\t 1         & 15        & 0.9332079\\\\\n",
       "\\end{tabular}\n"
      ],
      "text/markdown": [
       "\n",
       "| nodes | nTree | accuracy |\n",
       "|---|---|---|\n",
       "| 1         | 15        | 0.9332079 |\n",
       "\n"
      ],
      "text/plain": [
       "  nodes nTree accuracy \n",
       "1 1     15    0.9332079"
      ]
     },
     "metadata": {},
     "output_type": "display_data"
    }
   ],
   "source": [
    "# Imprimindo registro do modelo que alcançou a maior acurácia.\n",
    "\n",
    "bestRF <- featuresRF[featuresRF$accuracy == max(featuresRF$accuracy),]\n",
    "\n",
    "bestRF"
   ]
  },
  {
   "cell_type": "markdown",
   "metadata": {
    "colab_type": "text",
    "id": "nyk7IlNf4xL6"
   },
   "source": [
    "Recriaremos este modelo e imprimiremos suas estatísticas."
   ]
  },
  {
   "cell_type": "code",
   "execution_count": 53,
   "metadata": {
    "colab": {},
    "colab_type": "code",
    "id": "2UWAKf8TwViO"
   },
   "outputs": [
    {
     "data": {
      "text/plain": [
       "\n",
       "Call:\n",
       " randomForest(formula = f, data = data, ntree = bestRF$nTree,      nodesize = bestRF$nodes, importance = T) \n",
       "               Type of random forest: classification\n",
       "                     Number of trees: 15\n",
       "No. of variables tried at each split: 3\n",
       "\n",
       "        OOB estimate of  error rate: 8.51%\n",
       "Confusion matrix:\n",
       "       0      1 class.error\n",
       "0 437046  19350  0.04239739\n",
       "1  58371 398023  0.12789607"
      ]
     },
     "metadata": {},
     "output_type": "display_data"
    }
   ],
   "source": [
    "# Definindo fórmula a ser utilizada pelo modelo.\n",
    "\n",
    "f <- is_attributed ~ . \n",
    "\n",
    "# Criando modelo.\n",
    "\n",
    "model <- randomForest(f,\n",
    "                      data       = data, \n",
    "                      ntree      = bestRF$nTree, \n",
    "                      nodesize   = bestRF$nodes,\n",
    "                      importance = T)\n",
    "                      \n",
    "# Imprimindo o modelo.\n",
    "\n",
    "model"
   ]
  },
  {
   "cell_type": "markdown",
   "metadata": {
    "colab_type": "text",
    "id": "F0Gf8mRN6XUB"
   },
   "source": [
    "Agora podemos plotar o modelo em um gráfico e verificar o nível de importância das variáveis do dataset para prever a variável alvo."
   ]
  },
  {
   "cell_type": "code",
   "execution_count": 54,
   "metadata": {
    "colab": {},
    "colab_type": "code",
    "id": "Z3M5E0Be93T9"
   },
   "outputs": [
    {
     "data": {
      "image/png": "[encoded data removed]",
      "text/plain": [
       "plot without title"
      ]
     },
     "metadata": {},
     "output_type": "display_data"
    }
   ],
   "source": [
    "# Plotando gráfico para visualizar o nível de importância de cada variável no processo de predição da variável alvo.\n",
    "\n",
    "v <- as.data.frame(varImpPlot(model))"
   ]
  },
  {
   "cell_type": "markdown",
   "metadata": {
    "colab_type": "text",
    "id": "Uo73MkTZ7Pg2"
   },
   "source": [
    "Também podemos mensurar numericamente o quanto cada variável auxilia no processo de predição da variável alvo."
   ]
  },
  {
   "cell_type": "code",
   "execution_count": 55,
   "metadata": {
    "colab": {},
    "colab_type": "code",
    "id": "o8aGQFgcwStK"
   },
   "outputs": [
    {
     "data": {
      "text/html": [
       "<table>\n",
       "<thead><tr><th></th><th scope=col>MeanDecreaseAccuracy</th><th scope=col>MeanDecreaseGini</th></tr></thead>\n",
       "<tbody>\n",
       "\t<tr><th scope=row>hour</th><td>37.551580 </td><td> 10577.046</td></tr>\n",
       "\t<tr><th scope=row>app</th><td>24.792194 </td><td>187328.674</td></tr>\n",
       "\t<tr><th scope=row>ipDayHour</th><td>16.977815 </td><td>  7862.437</td></tr>\n",
       "\t<tr><th scope=row>day</th><td>16.828407 </td><td>  3723.729</td></tr>\n",
       "\t<tr><th scope=row>channel</th><td>14.642123 </td><td> 77184.869</td></tr>\n",
       "\t<tr><th scope=row>ipHourChannel</th><td>12.961836 </td><td> 10432.957</td></tr>\n",
       "\t<tr><th scope=row>ipHourApp</th><td>12.080415 </td><td>  4407.245</td></tr>\n",
       "\t<tr><th scope=row>ipHourOs</th><td>10.302811 </td><td>  4051.281</td></tr>\n",
       "\t<tr><th scope=row>ipHourDevice</th><td> 8.651207 </td><td> 18862.988</td></tr>\n",
       "\t<tr><th scope=row>device</th><td> 5.004703 </td><td> 27319.892</td></tr>\n",
       "\t<tr><th scope=row>os</th><td> 4.703069 </td><td> 28830.044</td></tr>\n",
       "</tbody>\n",
       "</table>\n"
      ],
      "text/latex": [
       "\\begin{tabular}{r|ll}\n",
       "  & MeanDecreaseAccuracy & MeanDecreaseGini\\\\\n",
       "\\hline\n",
       "\thour & 37.551580  &  10577.046\\\\\n",
       "\tapp & 24.792194  & 187328.674\\\\\n",
       "\tipDayHour & 16.977815  &   7862.437\\\\\n",
       "\tday & 16.828407  &   3723.729\\\\\n",
       "\tchannel & 14.642123  &  77184.869\\\\\n",
       "\tipHourChannel & 12.961836  &  10432.957\\\\\n",
       "\tipHourApp & 12.080415  &   4407.245\\\\\n",
       "\tipHourOs & 10.302811  &   4051.281\\\\\n",
       "\tipHourDevice &  8.651207  &  18862.988\\\\\n",
       "\tdevice &  5.004703  &  27319.892\\\\\n",
       "\tos &  4.703069  &  28830.044\\\\\n",
       "\\end{tabular}\n"
      ],
      "text/markdown": [
       "\n",
       "| <!--/--> | MeanDecreaseAccuracy | MeanDecreaseGini |\n",
       "|---|---|---|\n",
       "| hour | 37.551580  |  10577.046 |\n",
       "| app | 24.792194  | 187328.674 |\n",
       "| ipDayHour | 16.977815  |   7862.437 |\n",
       "| day | 16.828407  |   3723.729 |\n",
       "| channel | 14.642123  |  77184.869 |\n",
       "| ipHourChannel | 12.961836  |  10432.957 |\n",
       "| ipHourApp | 12.080415  |   4407.245 |\n",
       "| ipHourOs | 10.302811  |   4051.281 |\n",
       "| ipHourDevice |  8.651207  |  18862.988 |\n",
       "| device |  5.004703  |  27319.892 |\n",
       "| os |  4.703069  |  28830.044 |\n",
       "\n"
      ],
      "text/plain": [
       "              MeanDecreaseAccuracy MeanDecreaseGini\n",
       "hour          37.551580             10577.046      \n",
       "app           24.792194            187328.674      \n",
       "ipDayHour     16.977815              7862.437      \n",
       "day           16.828407              3723.729      \n",
       "channel       14.642123             77184.869      \n",
       "ipHourChannel 12.961836             10432.957      \n",
       "ipHourApp     12.080415              4407.245      \n",
       "ipHourOs      10.302811              4051.281      \n",
       "ipHourDevice   8.651207             18862.988      \n",
       "device         5.004703             27319.892      \n",
       "os             4.703069             28830.044      "
      ]
     },
     "metadata": {},
     "output_type": "display_data"
    }
   ],
   "source": [
    "# Captura em ordem decrescente de nível de importância o nome das variáveis.\n",
    "\n",
    "names <- rownames(v[order(v$MeanDecreaseAccuracy, decreasing = T),])\n",
    "\n",
    "# Imprime o resultado.\n",
    "\n",
    "v[order(v$MeanDecreaseAccuracy, decreasing = T),]"
   ]
  },
  {
   "cell_type": "markdown",
   "metadata": {
    "colab_type": "text",
    "id": "_G9-XprH8Lln"
   },
   "source": [
    "### **5.3 Criando modelos preditivos**"
   ]
  },
  {
   "cell_type": "markdown",
   "metadata": {
    "colab_type": "text",
    "id": "rfKB3lDA9iKU"
   },
   "source": [
    "Os modelos não paramêtricos baseados em árvores de decisão tendem a apresentar um bom desempenho em um período de tempo de treinamento muito baixo quando o conjunto de dados é muito grande. Por isso, iremos selecionar 4 algoritmos que sigam esta filosofia, são eles: **Random Forest**, **C 5.0**, **Adaboost** e **XGboost**. Também utilizaremos o algoritmo **Naive Bayes** por apresentar uma boa performance no treinamento de modelos com grandes quantidades de dados. \n",
    "\n",
    "A estratégia que iremos utilizar para o treinamento dos modelos será a de avaliar o desempenho de cada um utilizando os valores padrões que possuem com poucas modificações. Com base nos resultados que forem obtidos, iremos selecionar o melhor e otimizar seus parâmetros.\n",
    "\n",
    "Como o conjunto de dados de teste não possui a variável target, utilizaremos o dataset de treino para fazer as predições e avaliar o desempenho do modelo, por isso, teremos que tomar mais cuidado com overfiting."
   ]
  },
  {
   "cell_type": "markdown",
   "metadata": {
    "colab_type": "text",
    "id": "MW79nxza9CGc"
   },
   "source": [
    "#### **5.3.1 Modelo Naive Bayes**"
   ]
  },
  {
   "cell_type": "code",
   "execution_count": 56,
   "metadata": {
    "colab": {},
    "colab_type": "code",
    "id": "FpM6xaNqYrey"
   },
   "outputs": [],
   "source": [
    "# Definindo fórmula a ser utilizada pelo modelo.\n",
    "\n",
    "f <- is_attributed ~ . \n",
    "\n",
    "# Criando o modelo baseado no algoritmo Naive Bayes.\n",
    "\n",
    "model_nb <- naiveBayes(f , data = data)"
   ]
  },
  {
   "cell_type": "code",
   "execution_count": 57,
   "metadata": {
    "colab": {},
    "colab_type": "code",
    "id": "QN70JhG8YrVO"
   },
   "outputs": [],
   "source": [
    "# Realizando as previsões com o modelo baseado no algoritmo Naive Bayes.\n",
    "\n",
    "pred <- predict(model_nb, data, type = 'class')"
   ]
  },
  {
   "cell_type": "code",
   "execution_count": 58,
   "metadata": {
    "colab": {},
    "colab_type": "code",
    "id": "Nh2vy-_iYrKN"
   },
   "outputs": [
    {
     "data": {
      "text/plain": [
       "Confusion Matrix and Statistics\n",
       "\n",
       "    data\n",
       "pred      0      1\n",
       "   0 440136 319307\n",
       "   1  16709 137538\n",
       "                                          \n",
       "               Accuracy : 0.6322          \n",
       "                 95% CI : (0.6313, 0.6332)\n",
       "    No Information Rate : 0.5             \n",
       "    P-Value [Acc > NIR] : < 2.2e-16       \n",
       "                                          \n",
       "                  Kappa : 0.2645          \n",
       "                                          \n",
       " Mcnemar's Test P-Value : < 2.2e-16       \n",
       "                                          \n",
       "            Sensitivity : 0.9634          \n",
       "            Specificity : 0.3011          \n",
       "         Pos Pred Value : 0.5796          \n",
       "         Neg Pred Value : 0.8917          \n",
       "             Prevalence : 0.5000          \n",
       "         Detection Rate : 0.4817          \n",
       "   Detection Prevalence : 0.8312          \n",
       "      Balanced Accuracy : 0.6322          \n",
       "                                          \n",
       "       'Positive' Class : 0               \n",
       "                                          "
      ]
     },
     "metadata": {},
     "output_type": "display_data"
    }
   ],
   "source": [
    "# Criando a Confusion Matrix a partir das previsões.  \n",
    "\n",
    "confusionMatrix(table(pred = pred, data = data$is_attributed))"
   ]
  },
  {
   "cell_type": "code",
   "execution_count": 59,
   "metadata": {
    "colab": {},
    "colab_type": "code",
    "id": "sAU96c8klKxS"
   },
   "outputs": [
    {
     "name": "stderr",
     "output_type": "stream",
     "text": [
      "Setting levels: control = 1, case = 2\n",
      "Setting direction: controls < cases\n"
     ]
    },
    {
     "data": {
      "text/html": [
       "0.63224288325362"
      ],
      "text/latex": [
       "0.63224288325362"
      ],
      "text/markdown": [
       "0.63224288325362"
      ],
      "text/plain": [
       "Area under the curve: 0.6322"
      ]
     },
     "metadata": {},
     "output_type": "display_data"
    }
   ],
   "source": [
    "# Calculando a AUC para o modelo.\n",
    "\n",
    "nbAuc1 <- auc(roc(as.integer(data$is_attributed), as.integer(pred)))\n",
    "\n",
    "# Exibe o resultado.\n",
    "\n",
    "nbAuc1"
   ]
  },
  {
   "cell_type": "markdown",
   "metadata": {
    "colab_type": "text",
    "id": "vlgEqYnISzH-"
   },
   "source": [
    "##### **5.3.1.1 Modelo Naive Bayes com o parâmetro Laplace modificado**"
   ]
  },
  {
   "cell_type": "markdown",
   "metadata": {
    "colab_type": "text",
    "id": "MnmvwHNrCfyg"
   },
   "source": [
    "Tentaremos modificar o valor do argumento laplace do algoritmo com o objetivo de aumentar a acurárica deste modelo com o conjunto de dados de treino."
   ]
  },
  {
   "cell_type": "code",
   "execution_count": 60,
   "metadata": {
    "colab": {},
    "colab_type": "code",
    "id": "dvdsYk6YSzID"
   },
   "outputs": [],
   "source": [
    "# Definindo fórmula a ser utilizada pelo modelo.\n",
    "\n",
    "f <- is_attributed ~ . \n",
    "\n",
    "# Criando o modelo baseado no algoritmo Naive Bayes.\n",
    "\n",
    "model_nb <- naiveBayes(f , data = data, laplace = 100)"
   ]
  },
  {
   "cell_type": "code",
   "execution_count": 61,
   "metadata": {
    "colab": {},
    "colab_type": "code",
    "id": "deQefchaSzIK"
   },
   "outputs": [],
   "source": [
    "# Realizando as previsões com o modelo baseado no algoritmo Naive Bayes.\n",
    "\n",
    "pred <- predict(model_nb, data, type = 'class')"
   ]
  },
  {
   "cell_type": "code",
   "execution_count": 62,
   "metadata": {
    "colab": {},
    "colab_type": "code",
    "id": "NMcK9IOKSzIR"
   },
   "outputs": [
    {
     "data": {
      "text/plain": [
       "Confusion Matrix and Statistics\n",
       "\n",
       "    data\n",
       "pred      0      1\n",
       "   0 440136 319307\n",
       "   1  16709 137538\n",
       "                                          \n",
       "               Accuracy : 0.6322          \n",
       "                 95% CI : (0.6313, 0.6332)\n",
       "    No Information Rate : 0.5             \n",
       "    P-Value [Acc > NIR] : < 2.2e-16       \n",
       "                                          \n",
       "                  Kappa : 0.2645          \n",
       "                                          \n",
       " Mcnemar's Test P-Value : < 2.2e-16       \n",
       "                                          \n",
       "            Sensitivity : 0.9634          \n",
       "            Specificity : 0.3011          \n",
       "         Pos Pred Value : 0.5796          \n",
       "         Neg Pred Value : 0.8917          \n",
       "             Prevalence : 0.5000          \n",
       "         Detection Rate : 0.4817          \n",
       "   Detection Prevalence : 0.8312          \n",
       "      Balanced Accuracy : 0.6322          \n",
       "                                          \n",
       "       'Positive' Class : 0               \n",
       "                                          "
      ]
     },
     "metadata": {},
     "output_type": "display_data"
    }
   ],
   "source": [
    "# Criando a Confusion Matrix a partir das previsões.  \n",
    "\n",
    "confusionMatrix(table(pred = pred, data = data$is_attributed))"
   ]
  },
  {
   "cell_type": "code",
   "execution_count": 63,
   "metadata": {
    "colab": {},
    "colab_type": "code",
    "id": "0ZKeI4fmSzIa"
   },
   "outputs": [
    {
     "name": "stderr",
     "output_type": "stream",
     "text": [
      "Setting levels: control = 1, case = 2\n",
      "Setting direction: controls < cases\n"
     ]
    },
    {
     "data": {
      "text/html": [
       "0.63224288325362"
      ],
      "text/latex": [
       "0.63224288325362"
      ],
      "text/markdown": [
       "0.63224288325362"
      ],
      "text/plain": [
       "Area under the curve: 0.6322"
      ]
     },
     "metadata": {},
     "output_type": "display_data"
    }
   ],
   "source": [
    "# Calculando a AUC para o modelo.\n",
    "\n",
    "nbAuc2 <- auc(roc(as.integer(data$is_attributed), as.integer(pred)))\n",
    "\n",
    "# Exibe o resultado.\n",
    "\n",
    "nbAuc2"
   ]
  },
  {
   "cell_type": "markdown",
   "metadata": {
    "colab_type": "text",
    "id": "vhrRIllEOonN"
   },
   "source": [
    "#### **5.3.2 Modelo Random Forest**"
   ]
  },
  {
   "cell_type": "markdown",
   "metadata": {
    "colab_type": "text",
    "id": "0GA8alSeTq1X"
   },
   "source": [
    "Vamos utilizar o mesmo número de árvores e nós selecionados durante a etapa de avaliação da importância das variáveis para a construção deste modelo."
   ]
  },
  {
   "cell_type": "code",
   "execution_count": 64,
   "metadata": {
    "colab": {},
    "colab_type": "code",
    "id": "ugYBl-2F1yML"
   },
   "outputs": [],
   "source": [
    "# Definindo fórmula a ser utilizada pelo modelo.\n",
    "\n",
    "f <- is_attributed ~ . \n",
    "\n",
    "# Criando o modelo baseado no algoritmo Random Forest.\n",
    "\n",
    "model_rf <- randomForest(f, \n",
    "                         ntree      = bestRF$nTree, \n",
    "                         nodesize   = bestRF$nodes, \n",
    "                         data       = data)"
   ]
  },
  {
   "cell_type": "code",
   "execution_count": 65,
   "metadata": {
    "colab": {},
    "colab_type": "code",
    "id": "p1-ZGiiY1yCS"
   },
   "outputs": [],
   "source": [
    "# Realizando as previsões com o modelo baseado no algoritmo Random Forest.\n",
    "\n",
    "pred <- predict(model_rf, data, type = 'response')"
   ]
  },
  {
   "cell_type": "code",
   "execution_count": 66,
   "metadata": {
    "colab": {},
    "colab_type": "code",
    "id": "a8oWulgF1x_N"
   },
   "outputs": [
    {
     "data": {
      "text/plain": [
       "Confusion Matrix and Statistics\n",
       "\n",
       "    data\n",
       "pred      0      1\n",
       "   0 446915  45606\n",
       "   1   9930 411239\n",
       "                                          \n",
       "               Accuracy : 0.9392          \n",
       "                 95% CI : (0.9387, 0.9397)\n",
       "    No Information Rate : 0.5             \n",
       "    P-Value [Acc > NIR] : < 2.2e-16       \n",
       "                                          \n",
       "                  Kappa : 0.8784          \n",
       "                                          \n",
       " Mcnemar's Test P-Value : < 2.2e-16       \n",
       "                                          \n",
       "            Sensitivity : 0.9783          \n",
       "            Specificity : 0.9002          \n",
       "         Pos Pred Value : 0.9074          \n",
       "         Neg Pred Value : 0.9764          \n",
       "             Prevalence : 0.5000          \n",
       "         Detection Rate : 0.4891          \n",
       "   Detection Prevalence : 0.5390          \n",
       "      Balanced Accuracy : 0.9392          \n",
       "                                          \n",
       "       'Positive' Class : 0               \n",
       "                                          "
      ]
     },
     "metadata": {},
     "output_type": "display_data"
    }
   ],
   "source": [
    "# Criando a Confusion Matrix a partir das previsões.  \n",
    "\n",
    "confusionMatrix(table(pred = pred, data = data$is_attributed))"
   ]
  },
  {
   "cell_type": "code",
   "execution_count": 67,
   "metadata": {
    "colab": {},
    "colab_type": "code",
    "id": "7iJXYKiy1x8b"
   },
   "outputs": [
    {
     "name": "stderr",
     "output_type": "stream",
     "text": [
      "Setting levels: control = 1, case = 2\n",
      "Setting direction: controls < cases\n"
     ]
    },
    {
     "data": {
      "text/html": [
       "0.939217896660793"
      ],
      "text/latex": [
       "0.939217896660793"
      ],
      "text/markdown": [
       "0.939217896660793"
      ],
      "text/plain": [
       "Area under the curve: 0.9392"
      ]
     },
     "metadata": {},
     "output_type": "display_data"
    }
   ],
   "source": [
    "# Calculando a AUC para o modelo.\n",
    "\n",
    "rfAuc <- auc(roc(as.integer(data$is_attributed), as.integer(pred)))\n",
    "\n",
    "# Exibe o resultado.\n",
    "\n",
    "rfAuc"
   ]
  },
  {
   "cell_type": "markdown",
   "metadata": {
    "colab_type": "text",
    "id": "fg13j6pwUJ5E"
   },
   "source": [
    "#### **5.3.3 Modelo C 5.0**\n",
    "\n"
   ]
  },
  {
   "cell_type": "code",
   "execution_count": 68,
   "metadata": {
    "colab": {},
    "colab_type": "code",
    "id": "g06OFx1q1x57"
   },
   "outputs": [
    {
     "data": {
      "text/html": [
       "<table>\n",
       "<thead><tr><th></th><th scope=col>No</th><th scope=col>Yes</th></tr></thead>\n",
       "<tbody>\n",
       "\t<tr><th scope=row>No</th><td>0</td><td>1</td></tr>\n",
       "\t<tr><th scope=row>Yes</th><td>1</td><td>0</td></tr>\n",
       "</tbody>\n",
       "</table>\n"
      ],
      "text/latex": [
       "\\begin{tabular}{r|ll}\n",
       "  & No & Yes\\\\\n",
       "\\hline\n",
       "\tNo & 0 & 1\\\\\n",
       "\tYes & 1 & 0\\\\\n",
       "\\end{tabular}\n"
      ],
      "text/markdown": [
       "\n",
       "| <!--/--> | No | Yes |\n",
       "|---|---|---|\n",
       "| No | 0 | 1 |\n",
       "| Yes | 1 | 0 |\n",
       "\n"
      ],
      "text/plain": [
       "    No Yes\n",
       "No  0  1  \n",
       "Yes 1  0  "
      ]
     },
     "metadata": {},
     "output_type": "display_data"
    }
   ],
   "source": [
    "# Definindo a matriz de custos a ser utilizada pelo modelo.\n",
    "\n",
    "cost <- matrix(c(0, 1, 1, 0), nrow = 2, dimnames = list(c(\"No\", \"Yes\"), c(\"No\", \"Yes\")))\n",
    "\n",
    "# Visualizando a matriz.\n",
    "\n",
    "cost"
   ]
  },
  {
   "cell_type": "code",
   "execution_count": 69,
   "metadata": {
    "colab": {},
    "colab_type": "code",
    "id": "YaA3sq0kU9iT"
   },
   "outputs": [],
   "source": [
    "# Definindo fórmula a ser utilizada pelo modelo.\n",
    "\n",
    "f <- is_attributed ~ . \n",
    "\n",
    "# Criando o modelo baseado no algoritmo C 5.0.\n",
    "\n",
    "model_c50 <-  C5.0(f, data = data, trials = 100, cost = cost)"
   ]
  },
  {
   "cell_type": "code",
   "execution_count": 70,
   "metadata": {
    "colab": {},
    "colab_type": "code",
    "id": "W6xG8Vj1kP9F"
   },
   "outputs": [],
   "source": [
    "# Realizando as previsões com o modelo baseado no algoritmo C 5.0.\n",
    "\n",
    "pred <- predict(model_c50, data)"
   ]
  },
  {
   "cell_type": "code",
   "execution_count": 71,
   "metadata": {
    "colab": {},
    "colab_type": "code",
    "id": "-P0Cp_GxVG7u"
   },
   "outputs": [
    {
     "data": {
      "text/plain": [
       "Confusion Matrix and Statistics\n",
       "\n",
       "    data\n",
       "pred      0      1\n",
       "   0 441719  50503\n",
       "   1  15126 406342\n",
       "                                          \n",
       "               Accuracy : 0.9282          \n",
       "                 95% CI : (0.9276, 0.9287)\n",
       "    No Information Rate : 0.5             \n",
       "    P-Value [Acc > NIR] : < 2.2e-16       \n",
       "                                          \n",
       "                  Kappa : 0.8563          \n",
       "                                          \n",
       " Mcnemar's Test P-Value : < 2.2e-16       \n",
       "                                          \n",
       "            Sensitivity : 0.9669          \n",
       "            Specificity : 0.8895          \n",
       "         Pos Pred Value : 0.8974          \n",
       "         Neg Pred Value : 0.9641          \n",
       "             Prevalence : 0.5000          \n",
       "         Detection Rate : 0.4834          \n",
       "   Detection Prevalence : 0.5387          \n",
       "      Balanced Accuracy : 0.9282          \n",
       "                                          \n",
       "       'Positive' Class : 0               \n",
       "                                          "
      ]
     },
     "metadata": {},
     "output_type": "display_data"
    }
   ],
   "source": [
    "# Criando a Confusion Matrix a partir das previsões.  \n",
    "\n",
    "confusionMatrix(table(pred = pred, data = data$is_attributed))"
   ]
  },
  {
   "cell_type": "code",
   "execution_count": 72,
   "metadata": {
    "colab": {},
    "colab_type": "code",
    "id": "75G4oLCEpXvu"
   },
   "outputs": [
    {
     "name": "stderr",
     "output_type": "stream",
     "text": [
      "Setting levels: control = 1, case = 2\n",
      "Setting direction: controls < cases\n"
     ]
    },
    {
     "data": {
      "text/html": [
       "0.92817148048025"
      ],
      "text/latex": [
       "0.92817148048025"
      ],
      "text/markdown": [
       "0.92817148048025"
      ],
      "text/plain": [
       "Area under the curve: 0.9282"
      ]
     },
     "metadata": {},
     "output_type": "display_data"
    }
   ],
   "source": [
    "# Calculando a AUC para o modelo.\n",
    "\n",
    "c50Auc <- auc(roc(as.integer(data$is_attributed), as.integer(pred)))\n",
    "\n",
    "# Exibe o resultado.\n",
    "\n",
    "c50Auc"
   ]
  },
  {
   "cell_type": "markdown",
   "metadata": {
    "colab_type": "text",
    "id": "Agk00aC_p8_a"
   },
   "source": [
    "#### **5.3.4 Modelo Adaboost**"
   ]
  },
  {
   "cell_type": "code",
   "execution_count": 73,
   "metadata": {
    "colab": {},
    "colab_type": "code",
    "id": "PzrI7Canp8sy"
   },
   "outputs": [],
   "source": [
    "# Definindo fórmula a ser utilizada pelo modelo.\n",
    "\n",
    "f <- is_attributed ~ . \n",
    "\n",
    "# Criando o modelo baseado no algoritmo Adaboost.\n",
    "\n",
    "model_adaboost <-  adaboost(formula = f, data = as.data.frame(data), nIter = 15)"
   ]
  },
  {
   "cell_type": "code",
   "execution_count": 74,
   "metadata": {
    "colab": {},
    "colab_type": "code",
    "id": "7a6mOKgLqoeY"
   },
   "outputs": [],
   "source": [
    "# Realizando as previsões com o modelo baseado no algoritmo Adaboost.\n",
    "\n",
    "pred <- predict(model_adaboost, data, type = 'class')"
   ]
  },
  {
   "cell_type": "code",
   "execution_count": 75,
   "metadata": {
    "colab": {},
    "colab_type": "code",
    "id": "vRINMkmurLXV"
   },
   "outputs": [
    {
     "data": {
      "text/plain": [
       "Confusion Matrix and Statistics\n",
       "\n",
       "    data\n",
       "pred      0      1\n",
       "   0 445901  22198\n",
       "   1  10944 434647\n",
       "                                          \n",
       "               Accuracy : 0.9637          \n",
       "                 95% CI : (0.9633, 0.9641)\n",
       "    No Information Rate : 0.5             \n",
       "    P-Value [Acc > NIR] : < 2.2e-16       \n",
       "                                          \n",
       "                  Kappa : 0.9275          \n",
       "                                          \n",
       " Mcnemar's Test P-Value : < 2.2e-16       \n",
       "                                          \n",
       "            Sensitivity : 0.9760          \n",
       "            Specificity : 0.9514          \n",
       "         Pos Pred Value : 0.9526          \n",
       "         Neg Pred Value : 0.9754          \n",
       "             Prevalence : 0.5000          \n",
       "         Detection Rate : 0.4880          \n",
       "   Detection Prevalence : 0.5123          \n",
       "      Balanced Accuracy : 0.9637          \n",
       "                                          \n",
       "       'Positive' Class : 0               \n",
       "                                          "
      ]
     },
     "metadata": {},
     "output_type": "display_data"
    }
   ],
   "source": [
    "# Criando a Confusion Matrix a partir das previsões.  \n",
    "\n",
    "confusionMatrix(table(pred = pred$class, data = data$is_attributed))"
   ]
  },
  {
   "cell_type": "code",
   "execution_count": 76,
   "metadata": {
    "colab": {},
    "colab_type": "code",
    "id": "cckUwoCgsnIc"
   },
   "outputs": [
    {
     "name": "stderr",
     "output_type": "stream",
     "text": [
      "Setting levels: control = 1, case = 2\n",
      "Setting direction: controls < cases\n"
     ]
    },
    {
     "data": {
      "text/html": [
       "0.963727303571233"
      ],
      "text/latex": [
       "0.963727303571233"
      ],
      "text/markdown": [
       "0.963727303571233"
      ],
      "text/plain": [
       "Area under the curve: 0.9637"
      ]
     },
     "metadata": {},
     "output_type": "display_data"
    }
   ],
   "source": [
    "# Calculando a AUC para o modelo.\n",
    "\n",
    "adaboostAuc <- auc(roc(as.integer(data$is_attributed), as.integer(pred$class)))\n",
    "\n",
    "# Exibe o resultado.\n",
    "\n",
    "adaboostAuc"
   ]
  },
  {
   "cell_type": "markdown",
   "metadata": {
    "colab_type": "text",
    "id": "Djr6FtfH8l6J"
   },
   "source": [
    "#### **5.3.5 Modelo XGboost**"
   ]
  },
  {
   "cell_type": "code",
   "execution_count": 150,
   "metadata": {
    "colab": {},
    "colab_type": "code",
    "id": "sqx7dUCB80XR"
   },
   "outputs": [],
   "source": [
    "  # Criando o modelo baseado no algoritmo XGboost.\n",
    "\n",
    "  model_xgboost <- xgboost(\n",
    "      data      = as.matrix(data %>% select(-is_attributed)), # Define as variáveis preditoras.\n",
    "      label     = as.matrix(data$is_attributed),              # Define a variável target.\n",
    "      max.depth = 40,                                         # Defie o tamanho máximo da árvore.\n",
    "      eta       = 1,                                          # Define a taxa de aprendizado do modelo.\n",
    "      nthread   = 4,                                          # Define o número de threads que devem ser usadas. Quanto maior for esse número, mais rápido será o treinamento.\n",
    "      nrounds   = 100,                                        # Define o número de iterações.\n",
    "      objective = \"binary:logistic\",                          # Define que o modelo deve ser baseado em uma regressão logistica binária.\n",
    "      verbose   = F                                           # Exibe a queda da taxa de erro durante o treinamento.\n",
    ")"
   ]
  },
  {
   "cell_type": "code",
   "execution_count": 151,
   "metadata": {
    "colab": {},
    "colab_type": "code",
    "id": "ayAWkgYtaSZ1"
   },
   "outputs": [],
   "source": [
    "# Realizando as previsões com o modelo baseado no algoritmo XGboost.\n",
    "\n",
    "pred <- predict(model_xgboost, as.matrix(data %>% select(-is_attributed)))"
   ]
  },
  {
   "cell_type": "code",
   "execution_count": 152,
   "metadata": {
    "colab": {},
    "colab_type": "code",
    "id": "6RfWraRO3IDU"
   },
   "outputs": [],
   "source": [
    "# Definindo threshold.\n",
    "\n",
    "th <- 0.5\n",
    "\n",
    "# Classificando os resultados segundo o threshold especificado.\n",
    "\n",
    "predClass <- ifelse(pred > th, 1, 0)"
   ]
  },
  {
   "cell_type": "code",
   "execution_count": 153,
   "metadata": {
    "colab": {},
    "colab_type": "code",
    "id": "BzsUufHFaSKL"
   },
   "outputs": [
    {
     "data": {
      "text/plain": [
       "Confusion Matrix and Statistics\n",
       "\n",
       "    data\n",
       "pred      0      1\n",
       "   0 447539  19548\n",
       "   1   9306 437297\n",
       "                                          \n",
       "               Accuracy : 0.9684          \n",
       "                 95% CI : (0.9681, 0.9688)\n",
       "    No Information Rate : 0.5             \n",
       "    P-Value [Acc > NIR] : < 2.2e-16       \n",
       "                                          \n",
       "                  Kappa : 0.9368          \n",
       "                                          \n",
       " Mcnemar's Test P-Value : < 2.2e-16       \n",
       "                                          \n",
       "            Sensitivity : 0.9796          \n",
       "            Specificity : 0.9572          \n",
       "         Pos Pred Value : 0.9581          \n",
       "         Neg Pred Value : 0.9792          \n",
       "             Prevalence : 0.5000          \n",
       "         Detection Rate : 0.4898          \n",
       "   Detection Prevalence : 0.5112          \n",
       "      Balanced Accuracy : 0.9684          \n",
       "                                          \n",
       "       'Positive' Class : 0               \n",
       "                                          "
      ]
     },
     "metadata": {},
     "output_type": "display_data"
    }
   ],
   "source": [
    "# Criando a Confusion Matrix a partir das previsões.  \n",
    "\n",
    "confusionMatrix(table(pred = predClass, data = data$is_attributed))"
   ]
  },
  {
   "cell_type": "code",
   "execution_count": 154,
   "metadata": {
    "colab": {},
    "colab_type": "code",
    "id": "HR-r9j8DeS9b"
   },
   "outputs": [
    {
     "name": "stderr",
     "output_type": "stream",
     "text": [
      "Setting levels: control = 1, case = 2\n",
      "Setting direction: controls < cases\n"
     ]
    },
    {
     "data": {
      "text/html": [
       "0.968420361391719"
      ],
      "text/latex": [
       "0.968420361391719"
      ],
      "text/markdown": [
       "0.968420361391719"
      ],
      "text/plain": [
       "Area under the curve: 0.9684"
      ]
     },
     "metadata": {},
     "output_type": "display_data"
    }
   ],
   "source": [
    "# Calculando a AUC para o modelo.\n",
    "\n",
    "xgboostAuc <- auc(roc(as.integer(data$is_attributed), as.integer(predClass)))\n",
    "\n",
    "# Exibe o resultado.\n",
    "\n",
    "xgboostAuc"
   ]
  },
  {
   "cell_type": "markdown",
   "metadata": {
    "colab_type": "text",
    "id": "peBdQgfUgqnT"
   },
   "source": [
    "#### **5.3.6 Otimizando o modelo com o melhor desempenho**"
   ]
  },
  {
   "cell_type": "markdown",
   "metadata": {
    "colab_type": "text",
    "id": "ZYTyEscDg7Rv"
   },
   "source": [
    "Determinaremos qual modelo teve o melhor desempenho para o conjunto de dados de treino a partir dos valores **AUC** (Area under cover) gerados por cada um."
   ]
  },
  {
   "cell_type": "code",
   "execution_count": 155,
   "metadata": {
    "colab": {},
    "colab_type": "code",
    "id": "_9YXXro9fvfg"
   },
   "outputs": [
    {
     "data": {
      "text/html": [
       "<strong>xgboostAuc:</strong> 0.968420361391719"
      ],
      "text/latex": [
       "\\textbf{xgboostAuc:} 0.968420361391719"
      ],
      "text/markdown": [
       "**xgboostAuc:** 0.968420361391719"
      ],
      "text/plain": [
       "xgboostAuc \n",
       " 0.9684204 "
      ]
     },
     "metadata": {},
     "output_type": "display_data"
    }
   ],
   "source": [
    "# Criando um vetor com os valores AUC obtidos por cada modelo.\n",
    "\n",
    "aucModels <- c(\n",
    "    nbAuc1      = nbAuc1,\n",
    "    nbAuc2      = nbAuc2,\n",
    "    rfAuc       = rfAuc,\n",
    "    c50Auc      = c50Auc, \n",
    "    adaboostAuc = adaboostAuc,\n",
    "    xgboostAuc  = xgboostAuc\n",
    ")\n",
    "\n",
    "# Determinando o maior valor AUC.\n",
    "\n",
    "head(sort(aucModels, decreasing = T), 1)"
   ]
  },
  {
   "cell_type": "markdown",
   "metadata": {
    "colab_type": "text",
    "id": "UiwPtwPqiaiz"
   },
   "source": [
    "Concluímos que o modelo criado com o algoritmo **xgboost** foi o que apresentou o melhor desempenho. Agora iremos modificar os parâmetros deste algoritmo com o objetivo de otimizar sua performance."
   ]
  },
  {
   "cell_type": "code",
   "execution_count": 144,
   "metadata": {
    "colab": {},
    "colab_type": "code",
    "id": "sqx7dUCB80XR"
   },
   "outputs": [],
   "source": [
    "  # Criando o modelo baseado no algoritmo XGboost.\n",
    "\n",
    "  model_xgboost <- xgboost(\n",
    "      data      = as.matrix(data %>% select(-is_attributed)), # Define as variáveis preditoras.\n",
    "      label     = as.matrix(data$is_attributed),              # Define a variável target.\n",
    "      max.depth = 40,                                         # Defie o tamanho máximo da árvore.\n",
    "      eta       = 1,                                          # Define a taxa de aprendizado do modelo.\n",
    "      nthread   = 2,                                          # Define o número de threads que devem ser usadas. Quanto maior for esse número, mais rápido será o treinamento.\n",
    "      nrounds   = 500,                                        # Define o número de iterações.\n",
    "      objective = \"binary:logistic\",                          # Define que o modelo deve ser baseado em uma regressão logistica binária.\n",
    "      verbose   = F                                           # Exibe a queda da taxa de erro durante o treinamento.\n",
    ")"
   ]
  },
  {
   "cell_type": "code",
   "execution_count": 145,
   "metadata": {
    "colab": {},
    "colab_type": "code",
    "id": "ayAWkgYtaSZ1"
   },
   "outputs": [],
   "source": [
    "# Realizando as previsões como o modelo baseado no algoritmo XGboost.\n",
    "\n",
    "pred <- predict(model_xgboost, as.matrix(data %>% select(-is_attributed)))"
   ]
  },
  {
   "cell_type": "code",
   "execution_count": 146,
   "metadata": {
    "colab": {},
    "colab_type": "code",
    "id": "6RfWraRO3IDU"
   },
   "outputs": [],
   "source": [
    "# Definindo threshold.\n",
    "\n",
    "th <- 0.5\n",
    "\n",
    "# Classificando os resultados segundo o threshold especificado.\n",
    "\n",
    "predClass <- ifelse(pred > th, 1, 0)"
   ]
  },
  {
   "cell_type": "code",
   "execution_count": 147,
   "metadata": {
    "colab": {},
    "colab_type": "code",
    "id": "BzsUufHFaSKL"
   },
   "outputs": [
    {
     "data": {
      "text/plain": [
       "Confusion Matrix and Statistics\n",
       "\n",
       "    data\n",
       "pred      0      1\n",
       "   0 447457  19466\n",
       "   1   9388 437379\n",
       "                                          \n",
       "               Accuracy : 0.9684          \n",
       "                 95% CI : (0.9681, 0.9688)\n",
       "    No Information Rate : 0.5             \n",
       "    P-Value [Acc > NIR] : < 2.2e-16       \n",
       "                                          \n",
       "                  Kappa : 0.9368          \n",
       "                                          \n",
       " Mcnemar's Test P-Value : < 2.2e-16       \n",
       "                                          \n",
       "            Sensitivity : 0.9795          \n",
       "            Specificity : 0.9574          \n",
       "         Pos Pred Value : 0.9583          \n",
       "         Neg Pred Value : 0.9790          \n",
       "             Prevalence : 0.5000          \n",
       "         Detection Rate : 0.4897          \n",
       "   Detection Prevalence : 0.5110          \n",
       "      Balanced Accuracy : 0.9684          \n",
       "                                          \n",
       "       'Positive' Class : 0               \n",
       "                                          "
      ]
     },
     "metadata": {},
     "output_type": "display_data"
    }
   ],
   "source": [
    "# Criando a Confusion Matrix a partir das previsões.  \n",
    "\n",
    "confusionMatrix(table(pred = predClass, data = data$is_attributed))"
   ]
  },
  {
   "cell_type": "code",
   "execution_count": 148,
   "metadata": {
    "colab": {},
    "colab_type": "code",
    "id": "HR-r9j8DeS9b"
   },
   "outputs": [
    {
     "name": "stderr",
     "output_type": "stream",
     "text": [
      "Setting levels: control = 1, case = 2\n",
      "Setting direction: controls < cases\n"
     ]
    },
    {
     "data": {
      "text/html": [
       "0.968420361391719"
      ],
      "text/latex": [
       "0.968420361391719"
      ],
      "text/markdown": [
       "0.968420361391719"
      ],
      "text/plain": [
       "Area under the curve: 0.9684"
      ]
     },
     "metadata": {},
     "output_type": "display_data"
    }
   ],
   "source": [
    "# Calculando a AUC para o modelo.\n",
    "\n",
    "xgboostAuc <- auc(roc(as.integer(data$is_attributed), as.integer(predClass)))\n",
    "\n",
    "# Exibe o resultado.\n",
    "\n",
    "xgboostAuc"
   ]
  },
  {
   "cell_type": "markdown",
   "metadata": {},
   "source": [
    "Vemos que o processo de otimização produziu uma pequena melhora na métrica AUC gerada pelo modelo. Isso pode nos indicar que chegamos a maior precisão que o modelo pode nos fornecer com este conjunto de dados.\n",
    "\n",
    "Agora, vamos efetuar as previsões dos dados de teste e submetê-las no [site da competição no Kaggle.](https://www.kaggle.com/c/talkingdata-adtracking-fraud-detection/submissions)"
   ]
  },
  {
   "cell_type": "code",
   "execution_count": 149,
   "metadata": {
    "colab": {},
    "colab_type": "code",
    "id": "8FBviUrdMIre"
   },
   "outputs": [
    {
     "data": {
      "text/html": [
       "<dl class=dl-horizontal>\n",
       "\t<dt>conv_test_p1.csv</dt>\n",
       "\t\t<dd>'Saved!'</dd>\n",
       "\t<dt>conv_test_p2.csv</dt>\n",
       "\t\t<dd>'Saved!'</dd>\n",
       "\t<dt>conv_test_p3.csv</dt>\n",
       "\t\t<dd>'Saved!'</dd>\n",
       "\t<dt>conv_test_p4.csv</dt>\n",
       "\t\t<dd>'Saved!'</dd>\n",
       "\t<dt>conv_test_p5.csv</dt>\n",
       "\t\t<dd>'Saved!'</dd>\n",
       "</dl>\n"
      ],
      "text/latex": [
       "\\begin{description*}\n",
       "\\item[conv\\textbackslash{}\\_test\\textbackslash{}\\_p1.csv] 'Saved!'\n",
       "\\item[conv\\textbackslash{}\\_test\\textbackslash{}\\_p2.csv] 'Saved!'\n",
       "\\item[conv\\textbackslash{}\\_test\\textbackslash{}\\_p3.csv] 'Saved!'\n",
       "\\item[conv\\textbackslash{}\\_test\\textbackslash{}\\_p4.csv] 'Saved!'\n",
       "\\item[conv\\textbackslash{}\\_test\\textbackslash{}\\_p5.csv] 'Saved!'\n",
       "\\end{description*}\n"
      ],
      "text/markdown": [
       "conv_test_p1.csv\n",
       ":   'Saved!'conv_test_p2.csv\n",
       ":   'Saved!'conv_test_p3.csv\n",
       ":   'Saved!'conv_test_p4.csv\n",
       ":   'Saved!'conv_test_p5.csv\n",
       ":   'Saved!'\n",
       "\n"
      ],
      "text/plain": [
       "conv_test_p1.csv conv_test_p2.csv conv_test_p3.csv conv_test_p4.csv \n",
       "        \"Saved!\"         \"Saved!\"         \"Saved!\"         \"Saved!\" \n",
       "conv_test_p5.csv \n",
       "        \"Saved!\" "
      ]
     },
     "metadata": {},
     "output_type": "display_data"
    }
   ],
   "source": [
    "# Determinando o nome de cada um dos fragmentos do dataset original.\n",
    "\n",
    "chunks <- c(\"conv_test_p1.csv\", \"conv_test_p2.csv\", \"conv_test_p3.csv\", \"conv_test_p4.csv\", \"conv_test_p5.csv\")\n",
    "\n",
    "# Carregando o primeiro fragmento do conjunto de dados.\n",
    "\n",
    "chunk <- fread(chunks[1])\n",
    "\n",
    "# Capturando o nome das colunas do dataset.\n",
    "\n",
    "cNames <- colnames(chunk)\n",
    "\n",
    "# Removendo o dataset da memória.\n",
    "\n",
    "rm(chunk)\n",
    "\n",
    "# Realizando previsões para o dataset de treino com base no modelo xgboost criado.\n",
    "\n",
    "sapply(chunks, function(c) {\n",
    "    \n",
    "    # Carrega um chunk.\n",
    "    \n",
    "    chunk <- fread(c, col.names = cNames)\n",
    "    \n",
    "    # Realiza as previsões para os dados do chunk com o modelo especificado.\n",
    "    \n",
    "    pred <- predict(model_xgboost, as.matrix(chunk[, !'click_id']), predcontrib = F)\n",
    "    \n",
    "    # Salva as previsões em um arquivo .csv.\n",
    "    \n",
    "    fwrite(\n",
    "        data.frame(\n",
    "            click_id      = as.integer(chunk$click_id), \n",
    "            is_attributed = as.numeric(pred)\n",
    "        ), 'results.csv', append = TRUE\n",
    "    )\n",
    "    \n",
    "    # Remove variáveis da memória.\n",
    "    \n",
    "    rm(chunk, pred)\n",
    "    \n",
    "    # Retorna uma mensagem ao fim da iteração.\n",
    "    \n",
    "    return('Saved!')\n",
    "})"
   ]
  },
  {
   "cell_type": "markdown",
   "metadata": {},
   "source": [
    "Por fim, obtemos as seguintes pontuações com a métrica AUC no Kaggle ao submeter as previsões geradas pelo nosso modelo para os dados de teste:\n",
    "\n",
    "* **Pontuação privada:** 0.93511\n",
    "* **Pontuação pública:** 0.93311"
   ]
  },
  {
   "cell_type": "markdown",
   "metadata": {
    "colab_type": "text",
    "id": "4kJCN-RrZRnp"
   },
   "source": [
    "## **Entre em contato comigo!**"
   ]
  },
  {
   "cell_type": "markdown",
   "metadata": {
    "colab_type": "text",
    "id": "gq9_0It-bShO"
   },
   "source": [
    "Caso tenha alguma dúvida, sugestão ou apenas queira trocar uma ideia sobre este projeto, não hesite em entrar em contato comigo!"
   ]
  },
  {
   "cell_type": "markdown",
   "metadata": {
    "colab_type": "text",
    "id": "-3B7gj8FqRY5"
   },
   "source": [
    "<table align='center'>\n",
    "    <tr style=\" background-color: rgba(0,0,0,0);\">\n",
    "        <td>\n",
    "            <img src=\"https://image.flaticon.com/icons/svg/732/732026.svg\" alt=\"Email\" height=\"42\" width=\"42\">\n",
    "        </td>\n",
    "        <td>\n",
    "            <p>\n",
    "                <a href=\"mailto:franklinfs390@gmail.com\">E-mail</href>\n",
    "            </p>\n",
    "        </td>\n",
    "    <td>\n",
    "            <img src=\"https://image.flaticon.com/icons/svg/254/254394.svg\" alt=\"Linkedin\" height=\"42\" width=\"42\">\n",
    "    </td>\n",
    "    <td>\n",
    "        <p>\n",
    "            <a href=\"https://www.linkedin.com/in/franklinfs390/\">Linkedin</href>\n",
    "        </p>\n",
    "    </td>\n",
    "    <td>\n",
    "        <img src=\"https://image.flaticon.com/icons/svg/2111/2111432.svg\" alt=\"Github\" height=\"42\" width=\"42\">\n",
    "    </td>\n",
    "    <td>\n",
    "        <p>\n",
    "            <a href=\"https://github.com/franklin390\">Github</href>\n",
    "        </p>\n",
    "    </td>\n",
    "    <td>\n",
    "        <img src=\"https://image.flaticon.com/icons/svg/1667/1667233.svg\" alt=\"Site\" height=\"42\" width=\"42\">\n",
    "    </td>\n",
    "    <td>\n",
    "        <p>\n",
    "            <a href=\"https://franklin390.github.io/\">Site</href>\n",
    "        </p>\n",
    "    </td>\n",
    "  </tr>\n",
    "</table>\n"
   ]
  }
 ],
 "metadata": {
  "colab": {
   "collapsed_sections": [
    "pEWLHqoL9G2u",
    "zK0s4loaADe-",
    "etnMakmkc5Vc",
    "881fWq7twOXX",
    "bEvXPgctDl34"
   ],
   "name": "Projeto 01 - TalkingData AdTracking Fraud Detection Challenge.ipynb",
   "provenance": [],
   "toc_visible": true
  },
  "kernelspec": {
   "display_name": "R",
   "language": "R",
   "name": "ir"
  },
  "language_info": {
   "codemirror_mode": "r",
   "file_extension": ".r",
   "mimetype": "text/x-r-source",
   "name": "R",
   "pygments_lexer": "r",
   "version": "3.6.1"
  }
 },
 "nbformat": 4,
 "nbformat_minor": 4
}
